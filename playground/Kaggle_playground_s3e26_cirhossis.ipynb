{
  "nbformat": 4,
  "nbformat_minor": 0,
  "metadata": {
    "colab": {
      "provenance": [],
      "authorship_tag": "ABX9TyMDFHJppM0q3nsSKyZdxhmg",
      "include_colab_link": true
    },
    "kernelspec": {
      "name": "python3",
      "display_name": "Python 3"
    },
    "language_info": {
      "name": "python"
    }
  },
  "cells": [
    {
      "cell_type": "markdown",
      "metadata": {
        "id": "view-in-github",
        "colab_type": "text"
      },
      "source": [
        "<a href=\"https://colab.research.google.com/github/ananthrn/kaggle_submissions/blob/main/playground/Kaggle_playground_s3e26_cirhossis.ipynb\" target=\"_parent\"><img src=\"https://colab.research.google.com/assets/colab-badge.svg\" alt=\"Open In Colab\"/></a>"
      ]
    },
    {
      "cell_type": "code",
      "execution_count": 130,
      "metadata": {
        "id": "ictjLRTfL7nM"
      },
      "outputs": [],
      "source": [
        "import numpy as np\n",
        "import matplotlib.pyplot as plt\n",
        "import pandas as pd\n",
        "import sklearn\n",
        "import json\n",
        "\n",
        "from sklearn.model_selection import train_test_split\n",
        "from sklearn.linear_model import LogisticRegression\n",
        "from sklearn.metrics import accuracy_score\n",
        "from sklearn.metrics import confusion_matrix\n",
        "from sklearn.metrics import classification_report\n",
        "from sklearn.pipeline import Pipeline\n",
        "from sklearn.feature_extraction.text import CountVectorizer\n",
        "from sklearn.feature_extraction.text import TfidfTransformer\n",
        "from sklearn.naive_bayes import MultinomialNB\n",
        "from sklearn.model_selection import GridSearchCV\n",
        "from sklearn.compose import ColumnTransformer\n",
        "from sklearn.tree import DecisionTreeClassifier\n",
        "# from sklearn.pipeline import Pipeline\n",
        "from sklearn.preprocessing import OneHotEncoder\n",
        "from sklearn.linear_model import LogisticRegression\n",
        "from sklearn.linear_model import LinearRegression\n",
        "from sklearn.model_selection import cross_val_predict\n",
        "\n",
        "from sklearn.tree import DecisionTreeRegressor, DecisionTreeClassifier\n",
        "from sklearn.preprocessing import StandardScaler\n",
        "from sklearn.linear_model import LinearRegression, LogisticRegression\n",
        "from sklearn.preprocessing import FunctionTransformer\n",
        "from sklearn.ensemble import RandomForestRegressor, RandomForestClassifier\n",
        "from sklearn.tree import plot_tree\n",
        "# from sklearn.metrics import mean_squared_error, mean_absolute_error, r2_score\n",
        "\n",
        "from sklearn.metrics import median_absolute_error, log_loss\n",
        "\n",
        "import matplotlib.pyplot as plt\n",
        "import seaborn as sns\n",
        "\n",
        "import os\n",
        "\n",
        "from xgboost import XGBRegressor, XGBRFRegressor, XGBClassifier\n",
        "from sklearn.ensemble import  GradientBoostingClassifier"
      ]
    },
    {
      "cell_type": "markdown",
      "source": [],
      "metadata": {
        "id": "9N8Mq6ZPrSo3"
      }
    },
    {
      "cell_type": "code",
      "source": [
        "!mkdir /root/.kaggle\n",
        "!touch /root/.kaggle/kaggle.json"
      ],
      "metadata": {
        "id": "8x8t7ZYIjAkT",
        "colab": {
          "base_uri": "https://localhost:8080/"
        },
        "outputId": "ae80e576-7b2f-4112-d2e1-e99e9aae33ce"
      },
      "execution_count": 23,
      "outputs": [
        {
          "output_type": "stream",
          "name": "stdout",
          "text": [
            "mkdir: cannot create directory ‘/root/.kaggle’: File exists\n"
          ]
        }
      ]
    },
    {
      "cell_type": "code",
      "source": [
        "kaggle_creds = {\"username\":\"ananth360\",\"key\":\"5b5b919448cff443a5cd24a400cad781\"}\n",
        "\n",
        "with open(\"/root/.kaggle/kaggle.json\",\"w\") as f:\n",
        "    json.dump(kaggle_creds,f)\n",
        "!chmod 600 /root/.kaggle/kaggle.json"
      ],
      "metadata": {
        "id": "W1D3kOyjHb7H"
      },
      "execution_count": 24,
      "outputs": []
    },
    {
      "cell_type": "code",
      "source": [
        "!kaggle competitions download -c playground-series-s3e26"
      ],
      "metadata": {
        "colab": {
          "base_uri": "https://localhost:8080/"
        },
        "id": "klno6QLyMIAn",
        "outputId": "e41ffc3b-7707-4c59-d494-62b253183e58"
      },
      "execution_count": 25,
      "outputs": [
        {
          "output_type": "stream",
          "name": "stdout",
          "text": [
            "playground-series-s3e26.zip: Skipping, found more recently modified local copy (use --force to force download)\n"
          ]
        }
      ]
    },
    {
      "cell_type": "code",
      "source": [
        "DATA_NAME = \"playground-series-s3e26\""
      ],
      "metadata": {
        "id": "LWfOJN9AZeS9"
      },
      "execution_count": 26,
      "outputs": []
    },
    {
      "cell_type": "code",
      "source": [
        "import zipfile\n",
        "with zipfile.ZipFile(f\"./{DATA_NAME}.zip\", 'r') as zip_ref:\n",
        "    zip_ref.extractall(f\"./sample_data/{DATA_NAME}\")\n"
      ],
      "metadata": {
        "id": "KCwWfLK5MyBW"
      },
      "execution_count": 27,
      "outputs": []
    },
    {
      "cell_type": "code",
      "source": [],
      "metadata": {
        "id": "XyG8U_nfIsiE"
      },
      "execution_count": null,
      "outputs": []
    },
    {
      "cell_type": "code",
      "source": [
        "def get_model_predictions(model, X_train, y_train, test_data, classes = None) -> pd.DataFrame:\n",
        "    model.fit(X_train, y_train)\n",
        "    test_predictions = np.array(model.predict_proba(test_data))\n",
        "\n",
        "    classes = classes or model.classes_\n",
        "    print(\"classes: \", classes[0], classes[1], classes[2])\n",
        "    return pd.DataFrame({\n",
        "        \"id\": test_data.index,\n",
        "        f\"status_{classes[0]}\": test_predictions[:,0],\n",
        "        f\"status_{classes[1]}\": test_predictions[:, 1],\n",
        "        f\"status_{classes[2]}\": test_predictions[:,2],\n",
        "    })\n",
        "\n",
        "def get_base_rate_predictions(X_train, y_train, test_data) -> pd.DataFrame:\n",
        "\n",
        "    value_counts = y_train.value_counts()\n",
        "    test_probs = np.array(value_counts)/len(y_train)\n",
        "\n",
        "    test_predictions = np.vstack([test_probs] * len(test_data))\n",
        "\n",
        "    return pd.DataFrame({\n",
        "        \"id\": test_data.index,\n",
        "        f\"status_{value_counts.index[0]}\": test_predictions[:,0],\n",
        "        f\"status_{value_counts.index[1]}\": test_predictions[:, 1],\n",
        "        f\"status_{value_counts.index[2]}\": test_predictions[:,2],\n",
        "    })\n",
        "\n",
        "def plot_model(model, X_train, y_train) -> pd.DataFrame:\n",
        "    plt.figure(figsize=(20,20))\n",
        "    model.fit(X_train, y_train)\n",
        "    plot_tree(model[\"clf\"])"
      ],
      "metadata": {
        "id": "B-cHEa5nq6yn"
      },
      "execution_count": 168,
      "outputs": []
    },
    {
      "cell_type": "code",
      "source": [
        "TRAIN_PATH = f\"./sample_data/{DATA_NAME}/train.csv\"\n",
        "TEST_PATH = f\"./sample_data/{DATA_NAME}/test.csv\""
      ],
      "metadata": {
        "id": "pbXaLqY9ORS_"
      },
      "execution_count": 13,
      "outputs": []
    },
    {
      "cell_type": "code",
      "source": [
        "train_data = pd.read_csv(TRAIN_PATH, index_col=\"id\")\n",
        "test_data = pd.read_csv(TEST_PATH, index_col=\"id\")"
      ],
      "metadata": {
        "id": "DxLldWDIkdsM"
      },
      "execution_count": 14,
      "outputs": []
    },
    {
      "cell_type": "code",
      "source": [
        "train_data.head()"
      ],
      "metadata": {
        "colab": {
          "base_uri": "https://localhost:8080/",
          "height": 238
        },
        "id": "ZwRZx9zckfcm",
        "outputId": "ab122980-3cf3-4221-d4a0-049402a6b6b0"
      },
      "execution_count": 17,
      "outputs": [
        {
          "output_type": "execute_result",
          "data": {
            "text/plain": [
              "    N_Days             Drug    Age Sex Ascites Hepatomegaly Spiders Edema  \\\n",
              "id                                                                          \n",
              "0      999  D-penicillamine  21532   M       N            N       N     N   \n",
              "1     2574          Placebo  19237   F       N            N       N     N   \n",
              "2     3428          Placebo  13727   F       N            Y       Y     Y   \n",
              "3     2576          Placebo  18460   F       N            N       N     N   \n",
              "4      788          Placebo  16658   F       N            Y       N     N   \n",
              "\n",
              "    Bilirubin  Cholesterol  Albumin  Copper  Alk_Phos    SGOT  Tryglicerides  \\\n",
              "id                                                                             \n",
              "0         2.3        316.0     3.35   172.0    1601.0  179.80           63.0   \n",
              "1         0.9        364.0     3.54    63.0    1440.0  134.85           88.0   \n",
              "2         3.3        299.0     3.55   131.0    1029.0  119.35           50.0   \n",
              "3         0.6        256.0     3.50    58.0    1653.0   71.30           96.0   \n",
              "4         1.1        346.0     3.65    63.0    1181.0  125.55           96.0   \n",
              "\n",
              "    Platelets  Prothrombin  Stage Status  \n",
              "id                                        \n",
              "0       394.0          9.7    3.0      D  \n",
              "1       361.0         11.0    3.0      C  \n",
              "2       199.0         11.7    4.0      D  \n",
              "3       269.0         10.7    3.0      C  \n",
              "4       298.0         10.6    4.0      C  "
            ],
            "text/html": [
              "\n",
              "  <div id=\"df-11858ce7-a0d7-488f-b4a6-714bf5d733d5\" class=\"colab-df-container\">\n",
              "    <div>\n",
              "<style scoped>\n",
              "    .dataframe tbody tr th:only-of-type {\n",
              "        vertical-align: middle;\n",
              "    }\n",
              "\n",
              "    .dataframe tbody tr th {\n",
              "        vertical-align: top;\n",
              "    }\n",
              "\n",
              "    .dataframe thead th {\n",
              "        text-align: right;\n",
              "    }\n",
              "</style>\n",
              "<table border=\"1\" class=\"dataframe\">\n",
              "  <thead>\n",
              "    <tr style=\"text-align: right;\">\n",
              "      <th></th>\n",
              "      <th>N_Days</th>\n",
              "      <th>Drug</th>\n",
              "      <th>Age</th>\n",
              "      <th>Sex</th>\n",
              "      <th>Ascites</th>\n",
              "      <th>Hepatomegaly</th>\n",
              "      <th>Spiders</th>\n",
              "      <th>Edema</th>\n",
              "      <th>Bilirubin</th>\n",
              "      <th>Cholesterol</th>\n",
              "      <th>Albumin</th>\n",
              "      <th>Copper</th>\n",
              "      <th>Alk_Phos</th>\n",
              "      <th>SGOT</th>\n",
              "      <th>Tryglicerides</th>\n",
              "      <th>Platelets</th>\n",
              "      <th>Prothrombin</th>\n",
              "      <th>Stage</th>\n",
              "      <th>Status</th>\n",
              "    </tr>\n",
              "    <tr>\n",
              "      <th>id</th>\n",
              "      <th></th>\n",
              "      <th></th>\n",
              "      <th></th>\n",
              "      <th></th>\n",
              "      <th></th>\n",
              "      <th></th>\n",
              "      <th></th>\n",
              "      <th></th>\n",
              "      <th></th>\n",
              "      <th></th>\n",
              "      <th></th>\n",
              "      <th></th>\n",
              "      <th></th>\n",
              "      <th></th>\n",
              "      <th></th>\n",
              "      <th></th>\n",
              "      <th></th>\n",
              "      <th></th>\n",
              "      <th></th>\n",
              "    </tr>\n",
              "  </thead>\n",
              "  <tbody>\n",
              "    <tr>\n",
              "      <th>0</th>\n",
              "      <td>999</td>\n",
              "      <td>D-penicillamine</td>\n",
              "      <td>21532</td>\n",
              "      <td>M</td>\n",
              "      <td>N</td>\n",
              "      <td>N</td>\n",
              "      <td>N</td>\n",
              "      <td>N</td>\n",
              "      <td>2.3</td>\n",
              "      <td>316.0</td>\n",
              "      <td>3.35</td>\n",
              "      <td>172.0</td>\n",
              "      <td>1601.0</td>\n",
              "      <td>179.80</td>\n",
              "      <td>63.0</td>\n",
              "      <td>394.0</td>\n",
              "      <td>9.7</td>\n",
              "      <td>3.0</td>\n",
              "      <td>D</td>\n",
              "    </tr>\n",
              "    <tr>\n",
              "      <th>1</th>\n",
              "      <td>2574</td>\n",
              "      <td>Placebo</td>\n",
              "      <td>19237</td>\n",
              "      <td>F</td>\n",
              "      <td>N</td>\n",
              "      <td>N</td>\n",
              "      <td>N</td>\n",
              "      <td>N</td>\n",
              "      <td>0.9</td>\n",
              "      <td>364.0</td>\n",
              "      <td>3.54</td>\n",
              "      <td>63.0</td>\n",
              "      <td>1440.0</td>\n",
              "      <td>134.85</td>\n",
              "      <td>88.0</td>\n",
              "      <td>361.0</td>\n",
              "      <td>11.0</td>\n",
              "      <td>3.0</td>\n",
              "      <td>C</td>\n",
              "    </tr>\n",
              "    <tr>\n",
              "      <th>2</th>\n",
              "      <td>3428</td>\n",
              "      <td>Placebo</td>\n",
              "      <td>13727</td>\n",
              "      <td>F</td>\n",
              "      <td>N</td>\n",
              "      <td>Y</td>\n",
              "      <td>Y</td>\n",
              "      <td>Y</td>\n",
              "      <td>3.3</td>\n",
              "      <td>299.0</td>\n",
              "      <td>3.55</td>\n",
              "      <td>131.0</td>\n",
              "      <td>1029.0</td>\n",
              "      <td>119.35</td>\n",
              "      <td>50.0</td>\n",
              "      <td>199.0</td>\n",
              "      <td>11.7</td>\n",
              "      <td>4.0</td>\n",
              "      <td>D</td>\n",
              "    </tr>\n",
              "    <tr>\n",
              "      <th>3</th>\n",
              "      <td>2576</td>\n",
              "      <td>Placebo</td>\n",
              "      <td>18460</td>\n",
              "      <td>F</td>\n",
              "      <td>N</td>\n",
              "      <td>N</td>\n",
              "      <td>N</td>\n",
              "      <td>N</td>\n",
              "      <td>0.6</td>\n",
              "      <td>256.0</td>\n",
              "      <td>3.50</td>\n",
              "      <td>58.0</td>\n",
              "      <td>1653.0</td>\n",
              "      <td>71.30</td>\n",
              "      <td>96.0</td>\n",
              "      <td>269.0</td>\n",
              "      <td>10.7</td>\n",
              "      <td>3.0</td>\n",
              "      <td>C</td>\n",
              "    </tr>\n",
              "    <tr>\n",
              "      <th>4</th>\n",
              "      <td>788</td>\n",
              "      <td>Placebo</td>\n",
              "      <td>16658</td>\n",
              "      <td>F</td>\n",
              "      <td>N</td>\n",
              "      <td>Y</td>\n",
              "      <td>N</td>\n",
              "      <td>N</td>\n",
              "      <td>1.1</td>\n",
              "      <td>346.0</td>\n",
              "      <td>3.65</td>\n",
              "      <td>63.0</td>\n",
              "      <td>1181.0</td>\n",
              "      <td>125.55</td>\n",
              "      <td>96.0</td>\n",
              "      <td>298.0</td>\n",
              "      <td>10.6</td>\n",
              "      <td>4.0</td>\n",
              "      <td>C</td>\n",
              "    </tr>\n",
              "  </tbody>\n",
              "</table>\n",
              "</div>\n",
              "    <div class=\"colab-df-buttons\">\n",
              "\n",
              "  <div class=\"colab-df-container\">\n",
              "    <button class=\"colab-df-convert\" onclick=\"convertToInteractive('df-11858ce7-a0d7-488f-b4a6-714bf5d733d5')\"\n",
              "            title=\"Convert this dataframe to an interactive table.\"\n",
              "            style=\"display:none;\">\n",
              "\n",
              "  <svg xmlns=\"http://www.w3.org/2000/svg\" height=\"24px\" viewBox=\"0 -960 960 960\">\n",
              "    <path d=\"M120-120v-720h720v720H120Zm60-500h600v-160H180v160Zm220 220h160v-160H400v160Zm0 220h160v-160H400v160ZM180-400h160v-160H180v160Zm440 0h160v-160H620v160ZM180-180h160v-160H180v160Zm440 0h160v-160H620v160Z\"/>\n",
              "  </svg>\n",
              "    </button>\n",
              "\n",
              "  <style>\n",
              "    .colab-df-container {\n",
              "      display:flex;\n",
              "      gap: 12px;\n",
              "    }\n",
              "\n",
              "    .colab-df-convert {\n",
              "      background-color: #E8F0FE;\n",
              "      border: none;\n",
              "      border-radius: 50%;\n",
              "      cursor: pointer;\n",
              "      display: none;\n",
              "      fill: #1967D2;\n",
              "      height: 32px;\n",
              "      padding: 0 0 0 0;\n",
              "      width: 32px;\n",
              "    }\n",
              "\n",
              "    .colab-df-convert:hover {\n",
              "      background-color: #E2EBFA;\n",
              "      box-shadow: 0px 1px 2px rgba(60, 64, 67, 0.3), 0px 1px 3px 1px rgba(60, 64, 67, 0.15);\n",
              "      fill: #174EA6;\n",
              "    }\n",
              "\n",
              "    .colab-df-buttons div {\n",
              "      margin-bottom: 4px;\n",
              "    }\n",
              "\n",
              "    [theme=dark] .colab-df-convert {\n",
              "      background-color: #3B4455;\n",
              "      fill: #D2E3FC;\n",
              "    }\n",
              "\n",
              "    [theme=dark] .colab-df-convert:hover {\n",
              "      background-color: #434B5C;\n",
              "      box-shadow: 0px 1px 3px 1px rgba(0, 0, 0, 0.15);\n",
              "      filter: drop-shadow(0px 1px 2px rgba(0, 0, 0, 0.3));\n",
              "      fill: #FFFFFF;\n",
              "    }\n",
              "  </style>\n",
              "\n",
              "    <script>\n",
              "      const buttonEl =\n",
              "        document.querySelector('#df-11858ce7-a0d7-488f-b4a6-714bf5d733d5 button.colab-df-convert');\n",
              "      buttonEl.style.display =\n",
              "        google.colab.kernel.accessAllowed ? 'block' : 'none';\n",
              "\n",
              "      async function convertToInteractive(key) {\n",
              "        const element = document.querySelector('#df-11858ce7-a0d7-488f-b4a6-714bf5d733d5');\n",
              "        const dataTable =\n",
              "          await google.colab.kernel.invokeFunction('convertToInteractive',\n",
              "                                                    [key], {});\n",
              "        if (!dataTable) return;\n",
              "\n",
              "        const docLinkHtml = 'Like what you see? Visit the ' +\n",
              "          '<a target=\"_blank\" href=https://colab.research.google.com/notebooks/data_table.ipynb>data table notebook</a>'\n",
              "          + ' to learn more about interactive tables.';\n",
              "        element.innerHTML = '';\n",
              "        dataTable['output_type'] = 'display_data';\n",
              "        await google.colab.output.renderOutput(dataTable, element);\n",
              "        const docLink = document.createElement('div');\n",
              "        docLink.innerHTML = docLinkHtml;\n",
              "        element.appendChild(docLink);\n",
              "      }\n",
              "    </script>\n",
              "  </div>\n",
              "\n",
              "\n",
              "<div id=\"df-82a86e33-84b6-4e0a-81cf-a5388beb8a98\">\n",
              "  <button class=\"colab-df-quickchart\" onclick=\"quickchart('df-82a86e33-84b6-4e0a-81cf-a5388beb8a98')\"\n",
              "            title=\"Suggest charts\"\n",
              "            style=\"display:none;\">\n",
              "\n",
              "<svg xmlns=\"http://www.w3.org/2000/svg\" height=\"24px\"viewBox=\"0 0 24 24\"\n",
              "     width=\"24px\">\n",
              "    <g>\n",
              "        <path d=\"M19 3H5c-1.1 0-2 .9-2 2v14c0 1.1.9 2 2 2h14c1.1 0 2-.9 2-2V5c0-1.1-.9-2-2-2zM9 17H7v-7h2v7zm4 0h-2V7h2v10zm4 0h-2v-4h2v4z\"/>\n",
              "    </g>\n",
              "</svg>\n",
              "  </button>\n",
              "\n",
              "<style>\n",
              "  .colab-df-quickchart {\n",
              "      --bg-color: #E8F0FE;\n",
              "      --fill-color: #1967D2;\n",
              "      --hover-bg-color: #E2EBFA;\n",
              "      --hover-fill-color: #174EA6;\n",
              "      --disabled-fill-color: #AAA;\n",
              "      --disabled-bg-color: #DDD;\n",
              "  }\n",
              "\n",
              "  [theme=dark] .colab-df-quickchart {\n",
              "      --bg-color: #3B4455;\n",
              "      --fill-color: #D2E3FC;\n",
              "      --hover-bg-color: #434B5C;\n",
              "      --hover-fill-color: #FFFFFF;\n",
              "      --disabled-bg-color: #3B4455;\n",
              "      --disabled-fill-color: #666;\n",
              "  }\n",
              "\n",
              "  .colab-df-quickchart {\n",
              "    background-color: var(--bg-color);\n",
              "    border: none;\n",
              "    border-radius: 50%;\n",
              "    cursor: pointer;\n",
              "    display: none;\n",
              "    fill: var(--fill-color);\n",
              "    height: 32px;\n",
              "    padding: 0;\n",
              "    width: 32px;\n",
              "  }\n",
              "\n",
              "  .colab-df-quickchart:hover {\n",
              "    background-color: var(--hover-bg-color);\n",
              "    box-shadow: 0 1px 2px rgba(60, 64, 67, 0.3), 0 1px 3px 1px rgba(60, 64, 67, 0.15);\n",
              "    fill: var(--button-hover-fill-color);\n",
              "  }\n",
              "\n",
              "  .colab-df-quickchart-complete:disabled,\n",
              "  .colab-df-quickchart-complete:disabled:hover {\n",
              "    background-color: var(--disabled-bg-color);\n",
              "    fill: var(--disabled-fill-color);\n",
              "    box-shadow: none;\n",
              "  }\n",
              "\n",
              "  .colab-df-spinner {\n",
              "    border: 2px solid var(--fill-color);\n",
              "    border-color: transparent;\n",
              "    border-bottom-color: var(--fill-color);\n",
              "    animation:\n",
              "      spin 1s steps(1) infinite;\n",
              "  }\n",
              "\n",
              "  @keyframes spin {\n",
              "    0% {\n",
              "      border-color: transparent;\n",
              "      border-bottom-color: var(--fill-color);\n",
              "      border-left-color: var(--fill-color);\n",
              "    }\n",
              "    20% {\n",
              "      border-color: transparent;\n",
              "      border-left-color: var(--fill-color);\n",
              "      border-top-color: var(--fill-color);\n",
              "    }\n",
              "    30% {\n",
              "      border-color: transparent;\n",
              "      border-left-color: var(--fill-color);\n",
              "      border-top-color: var(--fill-color);\n",
              "      border-right-color: var(--fill-color);\n",
              "    }\n",
              "    40% {\n",
              "      border-color: transparent;\n",
              "      border-right-color: var(--fill-color);\n",
              "      border-top-color: var(--fill-color);\n",
              "    }\n",
              "    60% {\n",
              "      border-color: transparent;\n",
              "      border-right-color: var(--fill-color);\n",
              "    }\n",
              "    80% {\n",
              "      border-color: transparent;\n",
              "      border-right-color: var(--fill-color);\n",
              "      border-bottom-color: var(--fill-color);\n",
              "    }\n",
              "    90% {\n",
              "      border-color: transparent;\n",
              "      border-bottom-color: var(--fill-color);\n",
              "    }\n",
              "  }\n",
              "</style>\n",
              "\n",
              "  <script>\n",
              "    async function quickchart(key) {\n",
              "      const quickchartButtonEl =\n",
              "        document.querySelector('#' + key + ' button');\n",
              "      quickchartButtonEl.disabled = true;  // To prevent multiple clicks.\n",
              "      quickchartButtonEl.classList.add('colab-df-spinner');\n",
              "      try {\n",
              "        const charts = await google.colab.kernel.invokeFunction(\n",
              "            'suggestCharts', [key], {});\n",
              "      } catch (error) {\n",
              "        console.error('Error during call to suggestCharts:', error);\n",
              "      }\n",
              "      quickchartButtonEl.classList.remove('colab-df-spinner');\n",
              "      quickchartButtonEl.classList.add('colab-df-quickchart-complete');\n",
              "    }\n",
              "    (() => {\n",
              "      let quickchartButtonEl =\n",
              "        document.querySelector('#df-82a86e33-84b6-4e0a-81cf-a5388beb8a98 button');\n",
              "      quickchartButtonEl.style.display =\n",
              "        google.colab.kernel.accessAllowed ? 'block' : 'none';\n",
              "    })();\n",
              "  </script>\n",
              "</div>\n",
              "\n",
              "    </div>\n",
              "  </div>\n"
            ]
          },
          "metadata": {},
          "execution_count": 17
        }
      ]
    },
    {
      "cell_type": "code",
      "source": [
        "train_data.info()"
      ],
      "metadata": {
        "colab": {
          "base_uri": "https://localhost:8080/"
        },
        "id": "lAArk7_EpB5Q",
        "outputId": "f89f18ee-7416-4c99-b4cb-ba8dbf010165"
      },
      "execution_count": 18,
      "outputs": [
        {
          "output_type": "stream",
          "name": "stdout",
          "text": [
            "<class 'pandas.core.frame.DataFrame'>\n",
            "Int64Index: 7905 entries, 0 to 7904\n",
            "Data columns (total 19 columns):\n",
            " #   Column         Non-Null Count  Dtype  \n",
            "---  ------         --------------  -----  \n",
            " 0   N_Days         7905 non-null   int64  \n",
            " 1   Drug           7905 non-null   object \n",
            " 2   Age            7905 non-null   int64  \n",
            " 3   Sex            7905 non-null   object \n",
            " 4   Ascites        7905 non-null   object \n",
            " 5   Hepatomegaly   7905 non-null   object \n",
            " 6   Spiders        7905 non-null   object \n",
            " 7   Edema          7905 non-null   object \n",
            " 8   Bilirubin      7905 non-null   float64\n",
            " 9   Cholesterol    7905 non-null   float64\n",
            " 10  Albumin        7905 non-null   float64\n",
            " 11  Copper         7905 non-null   float64\n",
            " 12  Alk_Phos       7905 non-null   float64\n",
            " 13  SGOT           7905 non-null   float64\n",
            " 14  Tryglicerides  7905 non-null   float64\n",
            " 15  Platelets      7905 non-null   float64\n",
            " 16  Prothrombin    7905 non-null   float64\n",
            " 17  Stage          7905 non-null   float64\n",
            " 18  Status         7905 non-null   object \n",
            "dtypes: float64(10), int64(2), object(7)\n",
            "memory usage: 1.2+ MB\n"
          ]
        }
      ]
    },
    {
      "cell_type": "code",
      "source": [
        "sns.countplot(data=train_data, x=\"Status\")"
      ],
      "metadata": {
        "colab": {
          "base_uri": "https://localhost:8080/",
          "height": 467
        },
        "id": "N930wiPIsx5h",
        "outputId": "ad8e94dc-b90a-4925-fc3f-5be7c61c1b21"
      },
      "execution_count": 35,
      "outputs": [
        {
          "output_type": "execute_result",
          "data": {
            "text/plain": [
              "<Axes: xlabel='Status', ylabel='count'>"
            ]
          },
          "metadata": {},
          "execution_count": 35
        },
        {
          "output_type": "display_data",
          "data": {
            "text/plain": [
              "<Figure size 640x480 with 1 Axes>"
            ],
            "image/png": "[encoded data removed]"
          },
          "metadata": {}
        }
      ]
    },
    {
      "cell_type": "code",
      "source": [
        "X, y = train_data.drop(columns=[\"Status\"]), train_data[\"Status\"]"
      ],
      "metadata": {
        "id": "W_yzceLckgfX"
      },
      "execution_count": 36,
      "outputs": []
    },
    {
      "cell_type": "code",
      "source": [
        "numerical_columns = X.select_dtypes(include=[\"float64\", \"int64\"]).columns\n",
        "categorical_columns = X.select_dtypes(include=[\"object\"]).columns\n",
        "\n",
        "num_pipeline = Pipeline([\n",
        "    (\"log_transform\", FunctionTransformer(np.log1p)),\n",
        "    # (\"scaler\", StandardScaler())\n",
        "],\n",
        "    verbose=True,\n",
        ")\n",
        "\n",
        "categorical_pipeline = Pipeline(\n",
        "    [\n",
        "        (\"onehot\", OneHotEncoder(sparse_output=False, handle_unknown=\"ignore\"))\n",
        "    ],\n",
        "    verbose = True,\n",
        ")\n",
        "\n",
        "preprocessor = ColumnTransformer([\n",
        "    (\"num\", num_pipeline, numerical_columns),\n",
        "    (\"cat\", categorical_pipeline, categorical_columns)\n",
        "],\n",
        "verbose=True,\n",
        ")\n",
        "\n",
        "dec_tree_clf = Pipeline(\n",
        "    [\n",
        "        (\"preprocessor\", preprocessor),\n",
        "        (\"clf\", DecisionTreeClassifier(max_depth = 4, min_samples_split=10, random_state=42))\n",
        "    ],\n",
        "    verbose=True\n",
        ")\n",
        "\n"
      ],
      "metadata": {
        "id": "SvQ3T5Qan-ef"
      },
      "execution_count": 124,
      "outputs": []
    },
    {
      "cell_type": "code",
      "source": [
        "cv_dec_tree_clf_preds = cross_val_predict(dec_tree_clf, X, y, cv=5,)\n",
        "cv_dec_tree_clf_probs = cross_val_predict(dec_tree_clf, X, y, cv=5, method=\"predict_proba\")"
      ],
      "metadata": {
        "id": "qdcK22vLlkNy",
        "colab": {
          "base_uri": "https://localhost:8080/"
        },
        "outputId": "83aa0940-6bfd-44ee-ecd4-449ed08006e8"
      },
      "execution_count": 125,
      "outputs": [
        {
          "output_type": "stream",
          "name": "stdout",
          "text": [
            "[Pipeline] ..... (step 1 of 1) Processing log_transform, total=   0.0s\n",
            "[ColumnTransformer] ........... (1 of 2) Processing num, total=   0.0s\n",
            "[Pipeline] ............ (step 1 of 1) Processing onehot, total=   0.0s\n",
            "[ColumnTransformer] ........... (2 of 2) Processing cat, total=   0.0s\n",
            "[Pipeline] ...... (step 1 of 2) Processing preprocessor, total=   0.1s\n",
            "[Pipeline] ............... (step 2 of 2) Processing clf, total=   0.1s\n",
            "[Pipeline] ..... (step 1 of 1) Processing log_transform, total=   0.0s\n",
            "[ColumnTransformer] ........... (1 of 2) Processing num, total=   0.0s\n",
            "[Pipeline] ............ (step 1 of 1) Processing onehot, total=   0.0s\n",
            "[ColumnTransformer] ........... (2 of 2) Processing cat, total=   0.0s\n",
            "[Pipeline] ...... (step 1 of 2) Processing preprocessor, total=   0.1s\n",
            "[Pipeline] ............... (step 2 of 2) Processing clf, total=   0.1s\n",
            "[Pipeline] ..... (step 1 of 1) Processing log_transform, total=   0.0s\n",
            "[ColumnTransformer] ........... (1 of 2) Processing num, total=   0.0s\n",
            "[Pipeline] ............ (step 1 of 1) Processing onehot, total=   0.0s\n",
            "[ColumnTransformer] ........... (2 of 2) Processing cat, total=   0.0s\n",
            "[Pipeline] ...... (step 1 of 2) Processing preprocessor, total=   0.1s\n",
            "[Pipeline] ............... (step 2 of 2) Processing clf, total=   0.1s\n",
            "[Pipeline] ..... (step 1 of 1) Processing log_transform, total=   0.0s\n",
            "[ColumnTransformer] ........... (1 of 2) Processing num, total=   0.0s\n",
            "[Pipeline] ............ (step 1 of 1) Processing onehot, total=   0.0s\n",
            "[ColumnTransformer] ........... (2 of 2) Processing cat, total=   0.0s\n",
            "[Pipeline] ...... (step 1 of 2) Processing preprocessor, total=   0.0s\n",
            "[Pipeline] ............... (step 2 of 2) Processing clf, total=   0.1s\n",
            "[Pipeline] ..... (step 1 of 1) Processing log_transform, total=   0.0s\n",
            "[ColumnTransformer] ........... (1 of 2) Processing num, total=   0.0s\n",
            "[Pipeline] ............ (step 1 of 1) Processing onehot, total=   0.0s\n",
            "[ColumnTransformer] ........... (2 of 2) Processing cat, total=   0.0s\n",
            "[Pipeline] ...... (step 1 of 2) Processing preprocessor, total=   0.1s\n",
            "[Pipeline] ............... (step 2 of 2) Processing clf, total=   0.1s\n",
            "[Pipeline] ..... (step 1 of 1) Processing log_transform, total=   0.0s\n",
            "[ColumnTransformer] ........... (1 of 2) Processing num, total=   0.0s\n",
            "[Pipeline] ............ (step 1 of 1) Processing onehot, total=   0.0s\n",
            "[ColumnTransformer] ........... (2 of 2) Processing cat, total=   0.0s\n",
            "[Pipeline] ...... (step 1 of 2) Processing preprocessor, total=   0.1s\n",
            "[Pipeline] ............... (step 2 of 2) Processing clf, total=   0.1s\n",
            "[Pipeline] ..... (step 1 of 1) Processing log_transform, total=   0.0s\n",
            "[ColumnTransformer] ........... (1 of 2) Processing num, total=   0.0s\n",
            "[Pipeline] ............ (step 1 of 1) Processing onehot, total=   0.0s\n",
            "[ColumnTransformer] ........... (2 of 2) Processing cat, total=   0.0s\n",
            "[Pipeline] ...... (step 1 of 2) Processing preprocessor, total=   0.1s\n",
            "[Pipeline] ............... (step 2 of 2) Processing clf, total=   0.1s\n",
            "[Pipeline] ..... (step 1 of 1) Processing log_transform, total=   0.0s\n",
            "[ColumnTransformer] ........... (1 of 2) Processing num, total=   0.0s\n",
            "[Pipeline] ............ (step 1 of 1) Processing onehot, total=   0.0s\n",
            "[ColumnTransformer] ........... (2 of 2) Processing cat, total=   0.0s\n",
            "[Pipeline] ...... (step 1 of 2) Processing preprocessor, total=   0.1s\n",
            "[Pipeline] ............... (step 2 of 2) Processing clf, total=   0.1s\n",
            "[Pipeline] ..... (step 1 of 1) Processing log_transform, total=   0.0s\n",
            "[ColumnTransformer] ........... (1 of 2) Processing num, total=   0.0s\n",
            "[Pipeline] ............ (step 1 of 1) Processing onehot, total=   0.0s\n",
            "[ColumnTransformer] ........... (2 of 2) Processing cat, total=   0.0s\n",
            "[Pipeline] ...... (step 1 of 2) Processing preprocessor, total=   0.1s\n",
            "[Pipeline] ............... (step 2 of 2) Processing clf, total=   0.1s\n",
            "[Pipeline] ..... (step 1 of 1) Processing log_transform, total=   0.0s\n",
            "[ColumnTransformer] ........... (1 of 2) Processing num, total=   0.0s\n",
            "[Pipeline] ............ (step 1 of 1) Processing onehot, total=   0.0s\n",
            "[ColumnTransformer] ........... (2 of 2) Processing cat, total=   0.0s\n",
            "[Pipeline] ...... (step 1 of 2) Processing preprocessor, total=   0.0s\n",
            "[Pipeline] ............... (step 2 of 2) Processing clf, total=   0.0s\n"
          ]
        }
      ]
    },
    {
      "cell_type": "code",
      "source": [
        "print(\"Classification Report: \")\n",
        "print(classification_report(y, cv_dec_tree_clf_preds))\n",
        "print()\n",
        "\n",
        "\n",
        "print(\"LogLoss: \")\n",
        "print(log_loss(y, cv_dec_tree_clf_probs))"
      ],
      "metadata": {
        "colab": {
          "base_uri": "https://localhost:8080/"
        },
        "id": "umclJoslqi9y",
        "outputId": "7d26feeb-01b1-44e8-8d58-f2e417bfc8b8"
      },
      "execution_count": 126,
      "outputs": [
        {
          "output_type": "stream",
          "name": "stdout",
          "text": [
            "Classification Report: \n"
          ]
        },
        {
          "output_type": "stream",
          "name": "stderr",
          "text": [
            "/usr/local/lib/python3.10/dist-packages/sklearn/metrics/_classification.py:1344: UndefinedMetricWarning: Precision and F-score are ill-defined and being set to 0.0 in labels with no predicted samples. Use `zero_division` parameter to control this behavior.\n",
            "  _warn_prf(average, modifier, msg_start, len(result))\n",
            "/usr/local/lib/python3.10/dist-packages/sklearn/metrics/_classification.py:1344: UndefinedMetricWarning: Precision and F-score are ill-defined and being set to 0.0 in labels with no predicted samples. Use `zero_division` parameter to control this behavior.\n",
            "  _warn_prf(average, modifier, msg_start, len(result))\n"
          ]
        },
        {
          "output_type": "stream",
          "name": "stdout",
          "text": [
            "              precision    recall  f1-score   support\n",
            "\n",
            "           C       0.81      0.91      0.86      4965\n",
            "          CL       0.00      0.00      0.00       275\n",
            "           D       0.76      0.65      0.70      2665\n",
            "\n",
            "    accuracy                           0.79      7905\n",
            "   macro avg       0.52      0.52      0.52      7905\n",
            "weighted avg       0.76      0.79      0.77      7905\n",
            "\n",
            "\n",
            "LogLoss: \n",
            "0.5517702031190038\n"
          ]
        },
        {
          "output_type": "stream",
          "name": "stderr",
          "text": [
            "/usr/local/lib/python3.10/dist-packages/sklearn/metrics/_classification.py:1344: UndefinedMetricWarning: Precision and F-score are ill-defined and being set to 0.0 in labels with no predicted samples. Use `zero_division` parameter to control this behavior.\n",
            "  _warn_prf(average, modifier, msg_start, len(result))\n"
          ]
        }
      ]
    },
    {
      "cell_type": "code",
      "source": [
        "plot_model(dec_tree_clf, X, y)"
      ],
      "metadata": {
        "colab": {
          "base_uri": "https://localhost:8080/",
          "height": 1000
        },
        "id": "X559sOLDSOsa",
        "outputId": "32f34148-1347-4cdd-aca9-7aa308818018"
      },
      "execution_count": 139,
      "outputs": [
        {
          "output_type": "stream",
          "name": "stdout",
          "text": [
            "[Pipeline] ..... (step 1 of 1) Processing log_transform, total=   0.0s\n",
            "[ColumnTransformer] ........... (1 of 2) Processing num, total=   0.0s\n",
            "[Pipeline] ............ (step 1 of 1) Processing onehot, total=   0.0s\n",
            "[ColumnTransformer] ........... (2 of 2) Processing cat, total=   0.0s\n",
            "[Pipeline] ...... (step 1 of 2) Processing preprocessor, total=   0.0s\n",
            "[Pipeline] ............... (step 2 of 2) Processing clf, total=   0.0s\n"
          ]
        },
        {
          "output_type": "display_data",
          "data": {
            "text/plain": [
              "<Figure size 2000x2000 with 1 Axes>"
            ],
            "image/png": "[encoded data removed]"
          },
          "metadata": {}
        }
      ]
    },
    {
      "cell_type": "code",
      "source": [
        "sub_df = get_model_predictions(dec_tree_clf, X, y, test_data)\n",
        "sub_df.to_csv(f\"./sample_data/{DATA_NAME}/submission_dec_tree_clf.csv\", index=False)"
      ],
      "metadata": {
        "id": "DBVkXNlHqzcQ",
        "colab": {
          "base_uri": "https://localhost:8080/"
        },
        "outputId": "8cac8df7-6277-43d8-e6b3-299f554c055a"
      },
      "execution_count": 127,
      "outputs": [
        {
          "output_type": "stream",
          "name": "stdout",
          "text": [
            "[Pipeline] ..... (step 1 of 1) Processing log_transform, total=   0.0s\n",
            "[ColumnTransformer] ........... (1 of 2) Processing num, total=   0.0s\n",
            "[Pipeline] ............ (step 1 of 1) Processing onehot, total=   0.0s\n",
            "[ColumnTransformer] ........... (2 of 2) Processing cat, total=   0.0s\n",
            "[Pipeline] ...... (step 1 of 2) Processing preprocessor, total=   0.0s\n",
            "[Pipeline] ............... (step 2 of 2) Processing clf, total=   0.0s\n",
            "classes:  C CL D\n"
          ]
        }
      ]
    },
    {
      "cell_type": "code",
      "source": [
        "sub_df.head()"
      ],
      "metadata": {
        "colab": {
          "base_uri": "https://localhost:8080/",
          "height": 206
        },
        "id": "Gx5MqPRzJKHs",
        "outputId": "1329660f-1af4-4da4-b9e6-1e5aa44f1009"
      },
      "execution_count": 128,
      "outputs": [
        {
          "output_type": "execute_result",
          "data": {
            "text/plain": [
              "     id  status_C  status_CL  status_D\n",
              "0  7905  0.810596   0.031788  0.157616\n",
              "1  7906  0.929487   0.014329  0.056184\n",
              "2  7907  0.063492   0.126984  0.809524\n",
              "3  7908  0.929487   0.014329  0.056184\n",
              "4  7909  0.810596   0.031788  0.157616"
            ],
            "text/html": [
              "\n",
              "  <div id=\"df-726a6b12-4cc3-4432-92be-783376b68341\" class=\"colab-df-container\">\n",
              "    <div>\n",
              "<style scoped>\n",
              "    .dataframe tbody tr th:only-of-type {\n",
              "        vertical-align: middle;\n",
              "    }\n",
              "\n",
              "    .dataframe tbody tr th {\n",
              "        vertical-align: top;\n",
              "    }\n",
              "\n",
              "    .dataframe thead th {\n",
              "        text-align: right;\n",
              "    }\n",
              "</style>\n",
              "<table border=\"1\" class=\"dataframe\">\n",
              "  <thead>\n",
              "    <tr style=\"text-align: right;\">\n",
              "      <th></th>\n",
              "      <th>id</th>\n",
              "      <th>status_C</th>\n",
              "      <th>status_CL</th>\n",
              "      <th>status_D</th>\n",
              "    </tr>\n",
              "  </thead>\n",
              "  <tbody>\n",
              "    <tr>\n",
              "      <th>0</th>\n",
              "      <td>7905</td>\n",
              "      <td>0.810596</td>\n",
              "      <td>0.031788</td>\n",
              "      <td>0.157616</td>\n",
              "    </tr>\n",
              "    <tr>\n",
              "      <th>1</th>\n",
              "      <td>7906</td>\n",
              "      <td>0.929487</td>\n",
              "      <td>0.014329</td>\n",
              "      <td>0.056184</td>\n",
              "    </tr>\n",
              "    <tr>\n",
              "      <th>2</th>\n",
              "      <td>7907</td>\n",
              "      <td>0.063492</td>\n",
              "      <td>0.126984</td>\n",
              "      <td>0.809524</td>\n",
              "    </tr>\n",
              "    <tr>\n",
              "      <th>3</th>\n",
              "      <td>7908</td>\n",
              "      <td>0.929487</td>\n",
              "      <td>0.014329</td>\n",
              "      <td>0.056184</td>\n",
              "    </tr>\n",
              "    <tr>\n",
              "      <th>4</th>\n",
              "      <td>7909</td>\n",
              "      <td>0.810596</td>\n",
              "      <td>0.031788</td>\n",
              "      <td>0.157616</td>\n",
              "    </tr>\n",
              "  </tbody>\n",
              "</table>\n",
              "</div>\n",
              "    <div class=\"colab-df-buttons\">\n",
              "\n",
              "  <div class=\"colab-df-container\">\n",
              "    <button class=\"colab-df-convert\" onclick=\"convertToInteractive('df-726a6b12-4cc3-4432-92be-783376b68341')\"\n",
              "            title=\"Convert this dataframe to an interactive table.\"\n",
              "            style=\"display:none;\">\n",
              "\n",
              "  <svg xmlns=\"http://www.w3.org/2000/svg\" height=\"24px\" viewBox=\"0 -960 960 960\">\n",
              "    <path d=\"M120-120v-720h720v720H120Zm60-500h600v-160H180v160Zm220 220h160v-160H400v160Zm0 220h160v-160H400v160ZM180-400h160v-160H180v160Zm440 0h160v-160H620v160ZM180-180h160v-160H180v160Zm440 0h160v-160H620v160Z\"/>\n",
              "  </svg>\n",
              "    </button>\n",
              "\n",
              "  <style>\n",
              "    .colab-df-container {\n",
              "      display:flex;\n",
              "      gap: 12px;\n",
              "    }\n",
              "\n",
              "    .colab-df-convert {\n",
              "      background-color: #E8F0FE;\n",
              "      border: none;\n",
              "      border-radius: 50%;\n",
              "      cursor: pointer;\n",
              "      display: none;\n",
              "      fill: #1967D2;\n",
              "      height: 32px;\n",
              "      padding: 0 0 0 0;\n",
              "      width: 32px;\n",
              "    }\n",
              "\n",
              "    .colab-df-convert:hover {\n",
              "      background-color: #E2EBFA;\n",
              "      box-shadow: 0px 1px 2px rgba(60, 64, 67, 0.3), 0px 1px 3px 1px rgba(60, 64, 67, 0.15);\n",
              "      fill: #174EA6;\n",
              "    }\n",
              "\n",
              "    .colab-df-buttons div {\n",
              "      margin-bottom: 4px;\n",
              "    }\n",
              "\n",
              "    [theme=dark] .colab-df-convert {\n",
              "      background-color: #3B4455;\n",
              "      fill: #D2E3FC;\n",
              "    }\n",
              "\n",
              "    [theme=dark] .colab-df-convert:hover {\n",
              "      background-color: #434B5C;\n",
              "      box-shadow: 0px 1px 3px 1px rgba(0, 0, 0, 0.15);\n",
              "      filter: drop-shadow(0px 1px 2px rgba(0, 0, 0, 0.3));\n",
              "      fill: #FFFFFF;\n",
              "    }\n",
              "  </style>\n",
              "\n",
              "    <script>\n",
              "      const buttonEl =\n",
              "        document.querySelector('#df-726a6b12-4cc3-4432-92be-783376b68341 button.colab-df-convert');\n",
              "      buttonEl.style.display =\n",
              "        google.colab.kernel.accessAllowed ? 'block' : 'none';\n",
              "\n",
              "      async function convertToInteractive(key) {\n",
              "        const element = document.querySelector('#df-726a6b12-4cc3-4432-92be-783376b68341');\n",
              "        const dataTable =\n",
              "          await google.colab.kernel.invokeFunction('convertToInteractive',\n",
              "                                                    [key], {});\n",
              "        if (!dataTable) return;\n",
              "\n",
              "        const docLinkHtml = 'Like what you see? Visit the ' +\n",
              "          '<a target=\"_blank\" href=https://colab.research.google.com/notebooks/data_table.ipynb>data table notebook</a>'\n",
              "          + ' to learn more about interactive tables.';\n",
              "        element.innerHTML = '';\n",
              "        dataTable['output_type'] = 'display_data';\n",
              "        await google.colab.output.renderOutput(dataTable, element);\n",
              "        const docLink = document.createElement('div');\n",
              "        docLink.innerHTML = docLinkHtml;\n",
              "        element.appendChild(docLink);\n",
              "      }\n",
              "    </script>\n",
              "  </div>\n",
              "\n",
              "\n",
              "<div id=\"df-3af45d2c-6e15-42bb-ac93-fa8f90ee0abd\">\n",
              "  <button class=\"colab-df-quickchart\" onclick=\"quickchart('df-3af45d2c-6e15-42bb-ac93-fa8f90ee0abd')\"\n",
              "            title=\"Suggest charts\"\n",
              "            style=\"display:none;\">\n",
              "\n",
              "<svg xmlns=\"http://www.w3.org/2000/svg\" height=\"24px\"viewBox=\"0 0 24 24\"\n",
              "     width=\"24px\">\n",
              "    <g>\n",
              "        <path d=\"M19 3H5c-1.1 0-2 .9-2 2v14c0 1.1.9 2 2 2h14c1.1 0 2-.9 2-2V5c0-1.1-.9-2-2-2zM9 17H7v-7h2v7zm4 0h-2V7h2v10zm4 0h-2v-4h2v4z\"/>\n",
              "    </g>\n",
              "</svg>\n",
              "  </button>\n",
              "\n",
              "<style>\n",
              "  .colab-df-quickchart {\n",
              "      --bg-color: #E8F0FE;\n",
              "      --fill-color: #1967D2;\n",
              "      --hover-bg-color: #E2EBFA;\n",
              "      --hover-fill-color: #174EA6;\n",
              "      --disabled-fill-color: #AAA;\n",
              "      --disabled-bg-color: #DDD;\n",
              "  }\n",
              "\n",
              "  [theme=dark] .colab-df-quickchart {\n",
              "      --bg-color: #3B4455;\n",
              "      --fill-color: #D2E3FC;\n",
              "      --hover-bg-color: #434B5C;\n",
              "      --hover-fill-color: #FFFFFF;\n",
              "      --disabled-bg-color: #3B4455;\n",
              "      --disabled-fill-color: #666;\n",
              "  }\n",
              "\n",
              "  .colab-df-quickchart {\n",
              "    background-color: var(--bg-color);\n",
              "    border: none;\n",
              "    border-radius: 50%;\n",
              "    cursor: pointer;\n",
              "    display: none;\n",
              "    fill: var(--fill-color);\n",
              "    height: 32px;\n",
              "    padding: 0;\n",
              "    width: 32px;\n",
              "  }\n",
              "\n",
              "  .colab-df-quickchart:hover {\n",
              "    background-color: var(--hover-bg-color);\n",
              "    box-shadow: 0 1px 2px rgba(60, 64, 67, 0.3), 0 1px 3px 1px rgba(60, 64, 67, 0.15);\n",
              "    fill: var(--button-hover-fill-color);\n",
              "  }\n",
              "\n",
              "  .colab-df-quickchart-complete:disabled,\n",
              "  .colab-df-quickchart-complete:disabled:hover {\n",
              "    background-color: var(--disabled-bg-color);\n",
              "    fill: var(--disabled-fill-color);\n",
              "    box-shadow: none;\n",
              "  }\n",
              "\n",
              "  .colab-df-spinner {\n",
              "    border: 2px solid var(--fill-color);\n",
              "    border-color: transparent;\n",
              "    border-bottom-color: var(--fill-color);\n",
              "    animation:\n",
              "      spin 1s steps(1) infinite;\n",
              "  }\n",
              "\n",
              "  @keyframes spin {\n",
              "    0% {\n",
              "      border-color: transparent;\n",
              "      border-bottom-color: var(--fill-color);\n",
              "      border-left-color: var(--fill-color);\n",
              "    }\n",
              "    20% {\n",
              "      border-color: transparent;\n",
              "      border-left-color: var(--fill-color);\n",
              "      border-top-color: var(--fill-color);\n",
              "    }\n",
              "    30% {\n",
              "      border-color: transparent;\n",
              "      border-left-color: var(--fill-color);\n",
              "      border-top-color: var(--fill-color);\n",
              "      border-right-color: var(--fill-color);\n",
              "    }\n",
              "    40% {\n",
              "      border-color: transparent;\n",
              "      border-right-color: var(--fill-color);\n",
              "      border-top-color: var(--fill-color);\n",
              "    }\n",
              "    60% {\n",
              "      border-color: transparent;\n",
              "      border-right-color: var(--fill-color);\n",
              "    }\n",
              "    80% {\n",
              "      border-color: transparent;\n",
              "      border-right-color: var(--fill-color);\n",
              "      border-bottom-color: var(--fill-color);\n",
              "    }\n",
              "    90% {\n",
              "      border-color: transparent;\n",
              "      border-bottom-color: var(--fill-color);\n",
              "    }\n",
              "  }\n",
              "</style>\n",
              "\n",
              "  <script>\n",
              "    async function quickchart(key) {\n",
              "      const quickchartButtonEl =\n",
              "        document.querySelector('#' + key + ' button');\n",
              "      quickchartButtonEl.disabled = true;  // To prevent multiple clicks.\n",
              "      quickchartButtonEl.classList.add('colab-df-spinner');\n",
              "      try {\n",
              "        const charts = await google.colab.kernel.invokeFunction(\n",
              "            'suggestCharts', [key], {});\n",
              "      } catch (error) {\n",
              "        console.error('Error during call to suggestCharts:', error);\n",
              "      }\n",
              "      quickchartButtonEl.classList.remove('colab-df-spinner');\n",
              "      quickchartButtonEl.classList.add('colab-df-quickchart-complete');\n",
              "    }\n",
              "    (() => {\n",
              "      let quickchartButtonEl =\n",
              "        document.querySelector('#df-3af45d2c-6e15-42bb-ac93-fa8f90ee0abd button');\n",
              "      quickchartButtonEl.style.display =\n",
              "        google.colab.kernel.accessAllowed ? 'block' : 'none';\n",
              "    })();\n",
              "  </script>\n",
              "</div>\n",
              "\n",
              "    </div>\n",
              "  </div>\n"
            ]
          },
          "metadata": {},
          "execution_count": 128
        }
      ]
    },
    {
      "cell_type": "code",
      "source": [
        "!kaggle competitions submit -c playground-series-s3e26 -f ./sample_data/playground-series-s3e26/submission_dec_tree_clf.csv -m \"Dec tree depth 4 submission\""
      ],
      "metadata": {
        "id": "7BHtL7hzrxfQ",
        "colab": {
          "base_uri": "https://localhost:8080/"
        },
        "outputId": "3aacaf71-add8-4ebf-b5c6-d124af0b1f4d"
      },
      "execution_count": 129,
      "outputs": [
        {
          "output_type": "stream",
          "name": "stdout",
          "text": [
            "100% 332k/332k [00:02<00:00, 143kB/s] \n",
            "Successfully submitted to Multi-Class Prediction of Cirrhosis Outcomes"
          ]
        }
      ]
    },
    {
      "cell_type": "code",
      "source": [
        "value_counts = y.value_counts()\n",
        "test_probs = np.array(value_counts)/len(y)\n",
        "test_base_rate_predictions = np.vstack([test_probs] * len(y))\n",
        "\n",
        "print(\"Log Loss of Base rate prediction: \", log_loss(y, test_base_rate_predictions,))"
      ],
      "metadata": {
        "id": "Uf0ivylwrPt3",
        "colab": {
          "base_uri": "https://localhost:8080/"
        },
        "outputId": "f96b6a7d-4ca6-4208-a2e2-d6ee310f0858"
      },
      "execution_count": 116,
      "outputs": [
        {
          "output_type": "stream",
          "name": "stdout",
          "text": [
            "Log Loss of Base rate prediction:  1.4621741177566667\n"
          ]
        }
      ]
    },
    {
      "cell_type": "code",
      "source": [
        "test_base_rate_predictions[0:1]"
      ],
      "metadata": {
        "colab": {
          "base_uri": "https://localhost:8080/"
        },
        "id": "tNjuVW_jQINW",
        "outputId": "b4b56609-c63c-4baa-bdd8-41afd5ab6b09"
      },
      "execution_count": 110,
      "outputs": [
        {
          "output_type": "execute_result",
          "data": {
            "text/plain": [
              "array([[0.62808349, 0.3371284 , 0.03478811]])"
            ]
          },
          "metadata": {},
          "execution_count": 110
        }
      ]
    },
    {
      "cell_type": "code",
      "source": [
        "value_counts.index"
      ],
      "metadata": {
        "colab": {
          "base_uri": "https://localhost:8080/"
        },
        "id": "F6cM-IO7Qfxl",
        "outputId": "148fcfc4-e89f-413b-e40f-a7f92538bece"
      },
      "execution_count": 112,
      "outputs": [
        {
          "output_type": "execute_result",
          "data": {
            "text/plain": [
              "Index(['C', 'D', 'CL'], dtype='object')"
            ]
          },
          "metadata": {},
          "execution_count": 112
        }
      ]
    },
    {
      "cell_type": "code",
      "source": [
        "sub_base_rate_df = get_base_rate_predictions(X, y, test_data)\n",
        "sub_base_rate_df.to_csv(\"./sample_data/playground-series-s3e26/submission_base_rate.csv\", index=False)"
      ],
      "metadata": {
        "id": "GuainZ2_tBv_"
      },
      "execution_count": 102,
      "outputs": []
    },
    {
      "cell_type": "code",
      "source": [
        "sub_base_rate_df.head()"
      ],
      "metadata": {
        "colab": {
          "base_uri": "https://localhost:8080/",
          "height": 206
        },
        "id": "UkvfEL5JO-LZ",
        "outputId": "38868125-ddd5-46c9-925f-3892f0072f67"
      },
      "execution_count": 103,
      "outputs": [
        {
          "output_type": "execute_result",
          "data": {
            "text/plain": [
              "     id  status_C  status_D  status_CL\n",
              "0  7905  0.628083  0.337128   0.034788\n",
              "1  7906  0.628083  0.337128   0.034788\n",
              "2  7907  0.628083  0.337128   0.034788\n",
              "3  7908  0.628083  0.337128   0.034788\n",
              "4  7909  0.628083  0.337128   0.034788"
            ],
            "text/html": [
              "\n",
              "  <div id=\"df-13543b25-7548-4f56-bba9-a07a3bffe8a2\" class=\"colab-df-container\">\n",
              "    <div>\n",
              "<style scoped>\n",
              "    .dataframe tbody tr th:only-of-type {\n",
              "        vertical-align: middle;\n",
              "    }\n",
              "\n",
              "    .dataframe tbody tr th {\n",
              "        vertical-align: top;\n",
              "    }\n",
              "\n",
              "    .dataframe thead th {\n",
              "        text-align: right;\n",
              "    }\n",
              "</style>\n",
              "<table border=\"1\" class=\"dataframe\">\n",
              "  <thead>\n",
              "    <tr style=\"text-align: right;\">\n",
              "      <th></th>\n",
              "      <th>id</th>\n",
              "      <th>status_C</th>\n",
              "      <th>status_D</th>\n",
              "      <th>status_CL</th>\n",
              "    </tr>\n",
              "  </thead>\n",
              "  <tbody>\n",
              "    <tr>\n",
              "      <th>0</th>\n",
              "      <td>7905</td>\n",
              "      <td>0.628083</td>\n",
              "      <td>0.337128</td>\n",
              "      <td>0.034788</td>\n",
              "    </tr>\n",
              "    <tr>\n",
              "      <th>1</th>\n",
              "      <td>7906</td>\n",
              "      <td>0.628083</td>\n",
              "      <td>0.337128</td>\n",
              "      <td>0.034788</td>\n",
              "    </tr>\n",
              "    <tr>\n",
              "      <th>2</th>\n",
              "      <td>7907</td>\n",
              "      <td>0.628083</td>\n",
              "      <td>0.337128</td>\n",
              "      <td>0.034788</td>\n",
              "    </tr>\n",
              "    <tr>\n",
              "      <th>3</th>\n",
              "      <td>7908</td>\n",
              "      <td>0.628083</td>\n",
              "      <td>0.337128</td>\n",
              "      <td>0.034788</td>\n",
              "    </tr>\n",
              "    <tr>\n",
              "      <th>4</th>\n",
              "      <td>7909</td>\n",
              "      <td>0.628083</td>\n",
              "      <td>0.337128</td>\n",
              "      <td>0.034788</td>\n",
              "    </tr>\n",
              "  </tbody>\n",
              "</table>\n",
              "</div>\n",
              "    <div class=\"colab-df-buttons\">\n",
              "\n",
              "  <div class=\"colab-df-container\">\n",
              "    <button class=\"colab-df-convert\" onclick=\"convertToInteractive('df-13543b25-7548-4f56-bba9-a07a3bffe8a2')\"\n",
              "            title=\"Convert this dataframe to an interactive table.\"\n",
              "            style=\"display:none;\">\n",
              "\n",
              "  <svg xmlns=\"http://www.w3.org/2000/svg\" height=\"24px\" viewBox=\"0 -960 960 960\">\n",
              "    <path d=\"M120-120v-720h720v720H120Zm60-500h600v-160H180v160Zm220 220h160v-160H400v160Zm0 220h160v-160H400v160ZM180-400h160v-160H180v160Zm440 0h160v-160H620v160ZM180-180h160v-160H180v160Zm440 0h160v-160H620v160Z\"/>\n",
              "  </svg>\n",
              "    </button>\n",
              "\n",
              "  <style>\n",
              "    .colab-df-container {\n",
              "      display:flex;\n",
              "      gap: 12px;\n",
              "    }\n",
              "\n",
              "    .colab-df-convert {\n",
              "      background-color: #E8F0FE;\n",
              "      border: none;\n",
              "      border-radius: 50%;\n",
              "      cursor: pointer;\n",
              "      display: none;\n",
              "      fill: #1967D2;\n",
              "      height: 32px;\n",
              "      padding: 0 0 0 0;\n",
              "      width: 32px;\n",
              "    }\n",
              "\n",
              "    .colab-df-convert:hover {\n",
              "      background-color: #E2EBFA;\n",
              "      box-shadow: 0px 1px 2px rgba(60, 64, 67, 0.3), 0px 1px 3px 1px rgba(60, 64, 67, 0.15);\n",
              "      fill: #174EA6;\n",
              "    }\n",
              "\n",
              "    .colab-df-buttons div {\n",
              "      margin-bottom: 4px;\n",
              "    }\n",
              "\n",
              "    [theme=dark] .colab-df-convert {\n",
              "      background-color: #3B4455;\n",
              "      fill: #D2E3FC;\n",
              "    }\n",
              "\n",
              "    [theme=dark] .colab-df-convert:hover {\n",
              "      background-color: #434B5C;\n",
              "      box-shadow: 0px 1px 3px 1px rgba(0, 0, 0, 0.15);\n",
              "      filter: drop-shadow(0px 1px 2px rgba(0, 0, 0, 0.3));\n",
              "      fill: #FFFFFF;\n",
              "    }\n",
              "  </style>\n",
              "\n",
              "    <script>\n",
              "      const buttonEl =\n",
              "        document.querySelector('#df-13543b25-7548-4f56-bba9-a07a3bffe8a2 button.colab-df-convert');\n",
              "      buttonEl.style.display =\n",
              "        google.colab.kernel.accessAllowed ? 'block' : 'none';\n",
              "\n",
              "      async function convertToInteractive(key) {\n",
              "        const element = document.querySelector('#df-13543b25-7548-4f56-bba9-a07a3bffe8a2');\n",
              "        const dataTable =\n",
              "          await google.colab.kernel.invokeFunction('convertToInteractive',\n",
              "                                                    [key], {});\n",
              "        if (!dataTable) return;\n",
              "\n",
              "        const docLinkHtml = 'Like what you see? Visit the ' +\n",
              "          '<a target=\"_blank\" href=https://colab.research.google.com/notebooks/data_table.ipynb>data table notebook</a>'\n",
              "          + ' to learn more about interactive tables.';\n",
              "        element.innerHTML = '';\n",
              "        dataTable['output_type'] = 'display_data';\n",
              "        await google.colab.output.renderOutput(dataTable, element);\n",
              "        const docLink = document.createElement('div');\n",
              "        docLink.innerHTML = docLinkHtml;\n",
              "        element.appendChild(docLink);\n",
              "      }\n",
              "    </script>\n",
              "  </div>\n",
              "\n",
              "\n",
              "<div id=\"df-df13dcd8-4b9c-4dca-9247-72af1d74565c\">\n",
              "  <button class=\"colab-df-quickchart\" onclick=\"quickchart('df-df13dcd8-4b9c-4dca-9247-72af1d74565c')\"\n",
              "            title=\"Suggest charts\"\n",
              "            style=\"display:none;\">\n",
              "\n",
              "<svg xmlns=\"http://www.w3.org/2000/svg\" height=\"24px\"viewBox=\"0 0 24 24\"\n",
              "     width=\"24px\">\n",
              "    <g>\n",
              "        <path d=\"M19 3H5c-1.1 0-2 .9-2 2v14c0 1.1.9 2 2 2h14c1.1 0 2-.9 2-2V5c0-1.1-.9-2-2-2zM9 17H7v-7h2v7zm4 0h-2V7h2v10zm4 0h-2v-4h2v4z\"/>\n",
              "    </g>\n",
              "</svg>\n",
              "  </button>\n",
              "\n",
              "<style>\n",
              "  .colab-df-quickchart {\n",
              "      --bg-color: #E8F0FE;\n",
              "      --fill-color: #1967D2;\n",
              "      --hover-bg-color: #E2EBFA;\n",
              "      --hover-fill-color: #174EA6;\n",
              "      --disabled-fill-color: #AAA;\n",
              "      --disabled-bg-color: #DDD;\n",
              "  }\n",
              "\n",
              "  [theme=dark] .colab-df-quickchart {\n",
              "      --bg-color: #3B4455;\n",
              "      --fill-color: #D2E3FC;\n",
              "      --hover-bg-color: #434B5C;\n",
              "      --hover-fill-color: #FFFFFF;\n",
              "      --disabled-bg-color: #3B4455;\n",
              "      --disabled-fill-color: #666;\n",
              "  }\n",
              "\n",
              "  .colab-df-quickchart {\n",
              "    background-color: var(--bg-color);\n",
              "    border: none;\n",
              "    border-radius: 50%;\n",
              "    cursor: pointer;\n",
              "    display: none;\n",
              "    fill: var(--fill-color);\n",
              "    height: 32px;\n",
              "    padding: 0;\n",
              "    width: 32px;\n",
              "  }\n",
              "\n",
              "  .colab-df-quickchart:hover {\n",
              "    background-color: var(--hover-bg-color);\n",
              "    box-shadow: 0 1px 2px rgba(60, 64, 67, 0.3), 0 1px 3px 1px rgba(60, 64, 67, 0.15);\n",
              "    fill: var(--button-hover-fill-color);\n",
              "  }\n",
              "\n",
              "  .colab-df-quickchart-complete:disabled,\n",
              "  .colab-df-quickchart-complete:disabled:hover {\n",
              "    background-color: var(--disabled-bg-color);\n",
              "    fill: var(--disabled-fill-color);\n",
              "    box-shadow: none;\n",
              "  }\n",
              "\n",
              "  .colab-df-spinner {\n",
              "    border: 2px solid var(--fill-color);\n",
              "    border-color: transparent;\n",
              "    border-bottom-color: var(--fill-color);\n",
              "    animation:\n",
              "      spin 1s steps(1) infinite;\n",
              "  }\n",
              "\n",
              "  @keyframes spin {\n",
              "    0% {\n",
              "      border-color: transparent;\n",
              "      border-bottom-color: var(--fill-color);\n",
              "      border-left-color: var(--fill-color);\n",
              "    }\n",
              "    20% {\n",
              "      border-color: transparent;\n",
              "      border-left-color: var(--fill-color);\n",
              "      border-top-color: var(--fill-color);\n",
              "    }\n",
              "    30% {\n",
              "      border-color: transparent;\n",
              "      border-left-color: var(--fill-color);\n",
              "      border-top-color: var(--fill-color);\n",
              "      border-right-color: var(--fill-color);\n",
              "    }\n",
              "    40% {\n",
              "      border-color: transparent;\n",
              "      border-right-color: var(--fill-color);\n",
              "      border-top-color: var(--fill-color);\n",
              "    }\n",
              "    60% {\n",
              "      border-color: transparent;\n",
              "      border-right-color: var(--fill-color);\n",
              "    }\n",
              "    80% {\n",
              "      border-color: transparent;\n",
              "      border-right-color: var(--fill-color);\n",
              "      border-bottom-color: var(--fill-color);\n",
              "    }\n",
              "    90% {\n",
              "      border-color: transparent;\n",
              "      border-bottom-color: var(--fill-color);\n",
              "    }\n",
              "  }\n",
              "</style>\n",
              "\n",
              "  <script>\n",
              "    async function quickchart(key) {\n",
              "      const quickchartButtonEl =\n",
              "        document.querySelector('#' + key + ' button');\n",
              "      quickchartButtonEl.disabled = true;  // To prevent multiple clicks.\n",
              "      quickchartButtonEl.classList.add('colab-df-spinner');\n",
              "      try {\n",
              "        const charts = await google.colab.kernel.invokeFunction(\n",
              "            'suggestCharts', [key], {});\n",
              "      } catch (error) {\n",
              "        console.error('Error during call to suggestCharts:', error);\n",
              "      }\n",
              "      quickchartButtonEl.classList.remove('colab-df-spinner');\n",
              "      quickchartButtonEl.classList.add('colab-df-quickchart-complete');\n",
              "    }\n",
              "    (() => {\n",
              "      let quickchartButtonEl =\n",
              "        document.querySelector('#df-df13dcd8-4b9c-4dca-9247-72af1d74565c button');\n",
              "      quickchartButtonEl.style.display =\n",
              "        google.colab.kernel.accessAllowed ? 'block' : 'none';\n",
              "    })();\n",
              "  </script>\n",
              "</div>\n",
              "\n",
              "    </div>\n",
              "  </div>\n"
            ]
          },
          "metadata": {},
          "execution_count": 103
        }
      ]
    },
    {
      "cell_type": "code",
      "source": [
        "!kaggle competitions submit -c playground-series-s3e26 -f ./sample_data/playground-series-s3e26/submission_base_rate.csv -m \"Submit base rate preiction\""
      ],
      "metadata": {
        "id": "iZgQwKObtMaM",
        "colab": {
          "base_uri": "https://localhost:8080/"
        },
        "outputId": "3a61d5b7-60e4-42de-e334-ea7440ddaa12"
      },
      "execution_count": 105,
      "outputs": [
        {
          "output_type": "stream",
          "name": "stdout",
          "text": [
            "100% 327k/327k [00:02<00:00, 166kB/s]\n",
            "Successfully submitted to Multi-Class Prediction of Cirrhosis Outcomes"
          ]
        }
      ]
    },
    {
      "cell_type": "code",
      "source": [
        "numerical_columns = X.select_dtypes(include=[\"float64\", \"int64\"]).columns\n",
        "categorical_columns = X.select_dtypes(include=[\"object\"]).columns\n",
        "\n",
        "num_pipeline = Pipeline([\n",
        "    (\"log_transform\", FunctionTransformer(np.log1p)),\n",
        "    # (\"scaler\", StandardScaler())\n",
        "],\n",
        "    verbose=True,\n",
        ")\n",
        "\n",
        "categorical_pipeline = Pipeline(\n",
        "    [\n",
        "        (\"onehot\", OneHotEncoder(sparse_output=False, handle_unknown=\"ignore\"))\n",
        "    ],\n",
        "    verbose = True,\n",
        ")\n",
        "\n",
        "preprocessor = ColumnTransformer([\n",
        "    (\"num\", num_pipeline, numerical_columns),\n",
        "    (\"cat\", categorical_pipeline, categorical_columns)\n",
        "],\n",
        "verbose=True,\n",
        ")\n",
        "\n",
        "rf_clf = Pipeline(\n",
        "    [\n",
        "        (\"preprocessor\", preprocessor),\n",
        "        (\"clf\", RandomForestClassifier(n_estimators=100, max_depth = 4, min_samples_split=10, random_state=42, n_jobs=-1))\n",
        "    ],\n",
        "    verbose=True\n",
        ")\n",
        "\n"
      ],
      "metadata": {
        "id": "dHyxff7NtwKY"
      },
      "execution_count": 157,
      "outputs": []
    },
    {
      "cell_type": "code",
      "source": [
        "cv_rf_preds = cross_val_predict(rf_clf, X, y, cv=5)\n",
        "cv_rf_probs = cross_val_predict(rf_clf, X, y, cv=5, method=\"predict_proba\")"
      ],
      "metadata": {
        "id": "4JmtidVquUtw",
        "colab": {
          "base_uri": "https://localhost:8080/"
        },
        "outputId": "292dfd5f-a5cf-4922-b642-a671f4b42c23"
      },
      "execution_count": 158,
      "outputs": [
        {
          "output_type": "stream",
          "name": "stdout",
          "text": [
            "[Pipeline] ..... (step 1 of 1) Processing log_transform, total=   0.0s\n",
            "[ColumnTransformer] ........... (1 of 2) Processing num, total=   0.0s\n",
            "[Pipeline] ............ (step 1 of 1) Processing onehot, total=   0.0s\n",
            "[ColumnTransformer] ........... (2 of 2) Processing cat, total=   0.0s\n",
            "[Pipeline] ...... (step 1 of 2) Processing preprocessor, total=   0.0s\n",
            "[Pipeline] ............... (step 2 of 2) Processing clf, total=   0.7s\n",
            "[Pipeline] ..... (step 1 of 1) Processing log_transform, total=   0.0s\n",
            "[ColumnTransformer] ........... (1 of 2) Processing num, total=   0.0s\n",
            "[Pipeline] ............ (step 1 of 1) Processing onehot, total=   0.0s\n",
            "[ColumnTransformer] ........... (2 of 2) Processing cat, total=   0.0s\n",
            "[Pipeline] ...... (step 1 of 2) Processing preprocessor, total=   0.0s\n",
            "[Pipeline] ............... (step 2 of 2) Processing clf, total=   0.5s\n",
            "[Pipeline] ..... (step 1 of 1) Processing log_transform, total=   0.0s\n",
            "[ColumnTransformer] ........... (1 of 2) Processing num, total=   0.0s\n",
            "[Pipeline] ............ (step 1 of 1) Processing onehot, total=   0.0s\n",
            "[ColumnTransformer] ........... (2 of 2) Processing cat, total=   0.0s\n",
            "[Pipeline] ...... (step 1 of 2) Processing preprocessor, total=   0.0s\n",
            "[Pipeline] ............... (step 2 of 2) Processing clf, total=   0.7s\n",
            "[Pipeline] ..... (step 1 of 1) Processing log_transform, total=   0.0s\n",
            "[ColumnTransformer] ........... (1 of 2) Processing num, total=   0.0s\n",
            "[Pipeline] ............ (step 1 of 1) Processing onehot, total=   0.0s\n",
            "[ColumnTransformer] ........... (2 of 2) Processing cat, total=   0.0s\n",
            "[Pipeline] ...... (step 1 of 2) Processing preprocessor, total=   0.0s\n",
            "[Pipeline] ............... (step 2 of 2) Processing clf, total=   0.7s\n",
            "[Pipeline] ..... (step 1 of 1) Processing log_transform, total=   0.0s\n",
            "[ColumnTransformer] ........... (1 of 2) Processing num, total=   0.0s\n",
            "[Pipeline] ............ (step 1 of 1) Processing onehot, total=   0.0s\n",
            "[ColumnTransformer] ........... (2 of 2) Processing cat, total=   0.0s\n",
            "[Pipeline] ...... (step 1 of 2) Processing preprocessor, total=   0.0s\n",
            "[Pipeline] ............... (step 2 of 2) Processing clf, total=   0.7s\n",
            "[Pipeline] ..... (step 1 of 1) Processing log_transform, total=   0.0s\n",
            "[ColumnTransformer] ........... (1 of 2) Processing num, total=   0.0s\n",
            "[Pipeline] ............ (step 1 of 1) Processing onehot, total=   0.0s\n",
            "[ColumnTransformer] ........... (2 of 2) Processing cat, total=   0.0s\n",
            "[Pipeline] ...... (step 1 of 2) Processing preprocessor, total=   0.0s\n",
            "[Pipeline] ............... (step 2 of 2) Processing clf, total=   0.7s\n",
            "[Pipeline] ..... (step 1 of 1) Processing log_transform, total=   0.0s\n",
            "[ColumnTransformer] ........... (1 of 2) Processing num, total=   0.0s\n",
            "[Pipeline] ............ (step 1 of 1) Processing onehot, total=   0.0s\n",
            "[ColumnTransformer] ........... (2 of 2) Processing cat, total=   0.0s\n",
            "[Pipeline] ...... (step 1 of 2) Processing preprocessor, total=   0.0s\n",
            "[Pipeline] ............... (step 2 of 2) Processing clf, total=   0.7s\n",
            "[Pipeline] ..... (step 1 of 1) Processing log_transform, total=   0.0s\n",
            "[ColumnTransformer] ........... (1 of 2) Processing num, total=   0.0s\n",
            "[Pipeline] ............ (step 1 of 1) Processing onehot, total=   0.0s\n",
            "[ColumnTransformer] ........... (2 of 2) Processing cat, total=   0.0s\n",
            "[Pipeline] ...... (step 1 of 2) Processing preprocessor, total=   0.0s\n",
            "[Pipeline] ............... (step 2 of 2) Processing clf, total=   0.4s\n",
            "[Pipeline] ..... (step 1 of 1) Processing log_transform, total=   0.0s\n",
            "[ColumnTransformer] ........... (1 of 2) Processing num, total=   0.0s\n",
            "[Pipeline] ............ (step 1 of 1) Processing onehot, total=   0.0s\n",
            "[ColumnTransformer] ........... (2 of 2) Processing cat, total=   0.0s\n",
            "[Pipeline] ...... (step 1 of 2) Processing preprocessor, total=   0.0s\n",
            "[Pipeline] ............... (step 2 of 2) Processing clf, total=   0.4s\n",
            "[Pipeline] ..... (step 1 of 1) Processing log_transform, total=   0.0s\n",
            "[ColumnTransformer] ........... (1 of 2) Processing num, total=   0.0s\n",
            "[Pipeline] ............ (step 1 of 1) Processing onehot, total=   0.0s\n",
            "[ColumnTransformer] ........... (2 of 2) Processing cat, total=   0.0s\n",
            "[Pipeline] ...... (step 1 of 2) Processing preprocessor, total=   0.0s\n",
            "[Pipeline] ............... (step 2 of 2) Processing clf, total=   0.4s\n"
          ]
        }
      ]
    },
    {
      "cell_type": "code",
      "source": [
        "print(\"Classification Report: \")\n",
        "print(classification_report(y, cv_rf_preds))\n",
        "print()\n",
        "\n",
        "\n",
        "print(\"LogLoss: \")\n",
        "print(log_loss(y, cv_rf_probs))"
      ],
      "metadata": {
        "colab": {
          "base_uri": "https://localhost:8080/"
        },
        "id": "VZV3B6i-ucpv",
        "outputId": "90683475-a088-4663-c1c3-a5019c2e6aab"
      },
      "execution_count": 159,
      "outputs": [
        {
          "output_type": "stream",
          "name": "stdout",
          "text": [
            "Classification Report: \n",
            "              precision    recall  f1-score   support\n",
            "\n",
            "           C       0.82      0.93      0.87      4965\n",
            "          CL       0.00      0.00      0.00       275\n",
            "           D       0.80      0.67      0.73      2665\n",
            "\n",
            "    accuracy                           0.81      7905\n",
            "   macro avg       0.54      0.53      0.53      7905\n",
            "weighted avg       0.78      0.81      0.79      7905\n",
            "\n",
            "\n",
            "LogLoss: \n",
            "0.5160646777355623\n"
          ]
        },
        {
          "output_type": "stream",
          "name": "stderr",
          "text": [
            "/usr/local/lib/python3.10/dist-packages/sklearn/metrics/_classification.py:1344: UndefinedMetricWarning: Precision and F-score are ill-defined and being set to 0.0 in labels with no predicted samples. Use `zero_division` parameter to control this behavior.\n",
            "  _warn_prf(average, modifier, msg_start, len(result))\n",
            "/usr/local/lib/python3.10/dist-packages/sklearn/metrics/_classification.py:1344: UndefinedMetricWarning: Precision and F-score are ill-defined and being set to 0.0 in labels with no predicted samples. Use `zero_division` parameter to control this behavior.\n",
            "  _warn_prf(average, modifier, msg_start, len(result))\n",
            "/usr/local/lib/python3.10/dist-packages/sklearn/metrics/_classification.py:1344: UndefinedMetricWarning: Precision and F-score are ill-defined and being set to 0.0 in labels with no predicted samples. Use `zero_division` parameter to control this behavior.\n",
            "  _warn_prf(average, modifier, msg_start, len(result))\n"
          ]
        }
      ]
    },
    {
      "cell_type": "code",
      "source": [
        "sub_rf_df = get_model_predictions(rf_clf, X, y, test_data)\n",
        "sub_rf_df.to_csv(\"./sample_data/playground-series-s3e26/submission_rf.csv\", index=False)"
      ],
      "metadata": {
        "id": "6q9zktc2ukwc",
        "colab": {
          "base_uri": "https://localhost:8080/"
        },
        "outputId": "19c28cd4-b3c9-4ab2-f7c0-29103fb4f0fa"
      },
      "execution_count": 148,
      "outputs": [
        {
          "output_type": "stream",
          "name": "stdout",
          "text": [
            "[Pipeline] ..... (step 1 of 1) Processing log_transform, total=   0.0s\n",
            "[ColumnTransformer] ........... (1 of 2) Processing num, total=   0.0s\n",
            "[Pipeline] ............ (step 1 of 1) Processing onehot, total=   0.0s\n",
            "[ColumnTransformer] ........... (2 of 2) Processing cat, total=   0.0s\n",
            "[Pipeline] ...... (step 1 of 2) Processing preprocessor, total=   0.0s\n",
            "[Pipeline] ............... (step 2 of 2) Processing clf, total=   0.3s\n",
            "classes:  C CL D\n"
          ]
        }
      ]
    },
    {
      "cell_type": "code",
      "source": [
        "sub_rf_df.head()"
      ],
      "metadata": {
        "colab": {
          "base_uri": "https://localhost:8080/",
          "height": 206
        },
        "id": "kYnVgpQyUmXu",
        "outputId": "e2ea9831-eef6-49fd-f54c-5f6e3eea7096"
      },
      "execution_count": 149,
      "outputs": [
        {
          "output_type": "execute_result",
          "data": {
            "text/plain": [
              "     id  status_C  status_CL  status_D\n",
              "0  7905  0.770047   0.028112  0.201841\n",
              "1  7906  0.806498   0.034788  0.158714\n",
              "2  7907  0.192989   0.047686  0.759325\n",
              "3  7908  0.909405   0.016729  0.073866\n",
              "4  7909  0.670880   0.041602  0.287519"
            ],
            "text/html": [
              "\n",
              "  <div id=\"df-ac0506ec-93ca-41fd-bea4-c9a9264c30bc\" class=\"colab-df-container\">\n",
              "    <div>\n",
              "<style scoped>\n",
              "    .dataframe tbody tr th:only-of-type {\n",
              "        vertical-align: middle;\n",
              "    }\n",
              "\n",
              "    .dataframe tbody tr th {\n",
              "        vertical-align: top;\n",
              "    }\n",
              "\n",
              "    .dataframe thead th {\n",
              "        text-align: right;\n",
              "    }\n",
              "</style>\n",
              "<table border=\"1\" class=\"dataframe\">\n",
              "  <thead>\n",
              "    <tr style=\"text-align: right;\">\n",
              "      <th></th>\n",
              "      <th>id</th>\n",
              "      <th>status_C</th>\n",
              "      <th>status_CL</th>\n",
              "      <th>status_D</th>\n",
              "    </tr>\n",
              "  </thead>\n",
              "  <tbody>\n",
              "    <tr>\n",
              "      <th>0</th>\n",
              "      <td>7905</td>\n",
              "      <td>0.770047</td>\n",
              "      <td>0.028112</td>\n",
              "      <td>0.201841</td>\n",
              "    </tr>\n",
              "    <tr>\n",
              "      <th>1</th>\n",
              "      <td>7906</td>\n",
              "      <td>0.806498</td>\n",
              "      <td>0.034788</td>\n",
              "      <td>0.158714</td>\n",
              "    </tr>\n",
              "    <tr>\n",
              "      <th>2</th>\n",
              "      <td>7907</td>\n",
              "      <td>0.192989</td>\n",
              "      <td>0.047686</td>\n",
              "      <td>0.759325</td>\n",
              "    </tr>\n",
              "    <tr>\n",
              "      <th>3</th>\n",
              "      <td>7908</td>\n",
              "      <td>0.909405</td>\n",
              "      <td>0.016729</td>\n",
              "      <td>0.073866</td>\n",
              "    </tr>\n",
              "    <tr>\n",
              "      <th>4</th>\n",
              "      <td>7909</td>\n",
              "      <td>0.670880</td>\n",
              "      <td>0.041602</td>\n",
              "      <td>0.287519</td>\n",
              "    </tr>\n",
              "  </tbody>\n",
              "</table>\n",
              "</div>\n",
              "    <div class=\"colab-df-buttons\">\n",
              "\n",
              "  <div class=\"colab-df-container\">\n",
              "    <button class=\"colab-df-convert\" onclick=\"convertToInteractive('df-ac0506ec-93ca-41fd-bea4-c9a9264c30bc')\"\n",
              "            title=\"Convert this dataframe to an interactive table.\"\n",
              "            style=\"display:none;\">\n",
              "\n",
              "  <svg xmlns=\"http://www.w3.org/2000/svg\" height=\"24px\" viewBox=\"0 -960 960 960\">\n",
              "    <path d=\"M120-120v-720h720v720H120Zm60-500h600v-160H180v160Zm220 220h160v-160H400v160Zm0 220h160v-160H400v160ZM180-400h160v-160H180v160Zm440 0h160v-160H620v160ZM180-180h160v-160H180v160Zm440 0h160v-160H620v160Z\"/>\n",
              "  </svg>\n",
              "    </button>\n",
              "\n",
              "  <style>\n",
              "    .colab-df-container {\n",
              "      display:flex;\n",
              "      gap: 12px;\n",
              "    }\n",
              "\n",
              "    .colab-df-convert {\n",
              "      background-color: #E8F0FE;\n",
              "      border: none;\n",
              "      border-radius: 50%;\n",
              "      cursor: pointer;\n",
              "      display: none;\n",
              "      fill: #1967D2;\n",
              "      height: 32px;\n",
              "      padding: 0 0 0 0;\n",
              "      width: 32px;\n",
              "    }\n",
              "\n",
              "    .colab-df-convert:hover {\n",
              "      background-color: #E2EBFA;\n",
              "      box-shadow: 0px 1px 2px rgba(60, 64, 67, 0.3), 0px 1px 3px 1px rgba(60, 64, 67, 0.15);\n",
              "      fill: #174EA6;\n",
              "    }\n",
              "\n",
              "    .colab-df-buttons div {\n",
              "      margin-bottom: 4px;\n",
              "    }\n",
              "\n",
              "    [theme=dark] .colab-df-convert {\n",
              "      background-color: #3B4455;\n",
              "      fill: #D2E3FC;\n",
              "    }\n",
              "\n",
              "    [theme=dark] .colab-df-convert:hover {\n",
              "      background-color: #434B5C;\n",
              "      box-shadow: 0px 1px 3px 1px rgba(0, 0, 0, 0.15);\n",
              "      filter: drop-shadow(0px 1px 2px rgba(0, 0, 0, 0.3));\n",
              "      fill: #FFFFFF;\n",
              "    }\n",
              "  </style>\n",
              "\n",
              "    <script>\n",
              "      const buttonEl =\n",
              "        document.querySelector('#df-ac0506ec-93ca-41fd-bea4-c9a9264c30bc button.colab-df-convert');\n",
              "      buttonEl.style.display =\n",
              "        google.colab.kernel.accessAllowed ? 'block' : 'none';\n",
              "\n",
              "      async function convertToInteractive(key) {\n",
              "        const element = document.querySelector('#df-ac0506ec-93ca-41fd-bea4-c9a9264c30bc');\n",
              "        const dataTable =\n",
              "          await google.colab.kernel.invokeFunction('convertToInteractive',\n",
              "                                                    [key], {});\n",
              "        if (!dataTable) return;\n",
              "\n",
              "        const docLinkHtml = 'Like what you see? Visit the ' +\n",
              "          '<a target=\"_blank\" href=https://colab.research.google.com/notebooks/data_table.ipynb>data table notebook</a>'\n",
              "          + ' to learn more about interactive tables.';\n",
              "        element.innerHTML = '';\n",
              "        dataTable['output_type'] = 'display_data';\n",
              "        await google.colab.output.renderOutput(dataTable, element);\n",
              "        const docLink = document.createElement('div');\n",
              "        docLink.innerHTML = docLinkHtml;\n",
              "        element.appendChild(docLink);\n",
              "      }\n",
              "    </script>\n",
              "  </div>\n",
              "\n",
              "\n",
              "<div id=\"df-cb72c63d-ace1-4bde-9a39-d3f6efa6261f\">\n",
              "  <button class=\"colab-df-quickchart\" onclick=\"quickchart('df-cb72c63d-ace1-4bde-9a39-d3f6efa6261f')\"\n",
              "            title=\"Suggest charts\"\n",
              "            style=\"display:none;\">\n",
              "\n",
              "<svg xmlns=\"http://www.w3.org/2000/svg\" height=\"24px\"viewBox=\"0 0 24 24\"\n",
              "     width=\"24px\">\n",
              "    <g>\n",
              "        <path d=\"M19 3H5c-1.1 0-2 .9-2 2v14c0 1.1.9 2 2 2h14c1.1 0 2-.9 2-2V5c0-1.1-.9-2-2-2zM9 17H7v-7h2v7zm4 0h-2V7h2v10zm4 0h-2v-4h2v4z\"/>\n",
              "    </g>\n",
              "</svg>\n",
              "  </button>\n",
              "\n",
              "<style>\n",
              "  .colab-df-quickchart {\n",
              "      --bg-color: #E8F0FE;\n",
              "      --fill-color: #1967D2;\n",
              "      --hover-bg-color: #E2EBFA;\n",
              "      --hover-fill-color: #174EA6;\n",
              "      --disabled-fill-color: #AAA;\n",
              "      --disabled-bg-color: #DDD;\n",
              "  }\n",
              "\n",
              "  [theme=dark] .colab-df-quickchart {\n",
              "      --bg-color: #3B4455;\n",
              "      --fill-color: #D2E3FC;\n",
              "      --hover-bg-color: #434B5C;\n",
              "      --hover-fill-color: #FFFFFF;\n",
              "      --disabled-bg-color: #3B4455;\n",
              "      --disabled-fill-color: #666;\n",
              "  }\n",
              "\n",
              "  .colab-df-quickchart {\n",
              "    background-color: var(--bg-color);\n",
              "    border: none;\n",
              "    border-radius: 50%;\n",
              "    cursor: pointer;\n",
              "    display: none;\n",
              "    fill: var(--fill-color);\n",
              "    height: 32px;\n",
              "    padding: 0;\n",
              "    width: 32px;\n",
              "  }\n",
              "\n",
              "  .colab-df-quickchart:hover {\n",
              "    background-color: var(--hover-bg-color);\n",
              "    box-shadow: 0 1px 2px rgba(60, 64, 67, 0.3), 0 1px 3px 1px rgba(60, 64, 67, 0.15);\n",
              "    fill: var(--button-hover-fill-color);\n",
              "  }\n",
              "\n",
              "  .colab-df-quickchart-complete:disabled,\n",
              "  .colab-df-quickchart-complete:disabled:hover {\n",
              "    background-color: var(--disabled-bg-color);\n",
              "    fill: var(--disabled-fill-color);\n",
              "    box-shadow: none;\n",
              "  }\n",
              "\n",
              "  .colab-df-spinner {\n",
              "    border: 2px solid var(--fill-color);\n",
              "    border-color: transparent;\n",
              "    border-bottom-color: var(--fill-color);\n",
              "    animation:\n",
              "      spin 1s steps(1) infinite;\n",
              "  }\n",
              "\n",
              "  @keyframes spin {\n",
              "    0% {\n",
              "      border-color: transparent;\n",
              "      border-bottom-color: var(--fill-color);\n",
              "      border-left-color: var(--fill-color);\n",
              "    }\n",
              "    20% {\n",
              "      border-color: transparent;\n",
              "      border-left-color: var(--fill-color);\n",
              "      border-top-color: var(--fill-color);\n",
              "    }\n",
              "    30% {\n",
              "      border-color: transparent;\n",
              "      border-left-color: var(--fill-color);\n",
              "      border-top-color: var(--fill-color);\n",
              "      border-right-color: var(--fill-color);\n",
              "    }\n",
              "    40% {\n",
              "      border-color: transparent;\n",
              "      border-right-color: var(--fill-color);\n",
              "      border-top-color: var(--fill-color);\n",
              "    }\n",
              "    60% {\n",
              "      border-color: transparent;\n",
              "      border-right-color: var(--fill-color);\n",
              "    }\n",
              "    80% {\n",
              "      border-color: transparent;\n",
              "      border-right-color: var(--fill-color);\n",
              "      border-bottom-color: var(--fill-color);\n",
              "    }\n",
              "    90% {\n",
              "      border-color: transparent;\n",
              "      border-bottom-color: var(--fill-color);\n",
              "    }\n",
              "  }\n",
              "</style>\n",
              "\n",
              "  <script>\n",
              "    async function quickchart(key) {\n",
              "      const quickchartButtonEl =\n",
              "        document.querySelector('#' + key + ' button');\n",
              "      quickchartButtonEl.disabled = true;  // To prevent multiple clicks.\n",
              "      quickchartButtonEl.classList.add('colab-df-spinner');\n",
              "      try {\n",
              "        const charts = await google.colab.kernel.invokeFunction(\n",
              "            'suggestCharts', [key], {});\n",
              "      } catch (error) {\n",
              "        console.error('Error during call to suggestCharts:', error);\n",
              "      }\n",
              "      quickchartButtonEl.classList.remove('colab-df-spinner');\n",
              "      quickchartButtonEl.classList.add('colab-df-quickchart-complete');\n",
              "    }\n",
              "    (() => {\n",
              "      let quickchartButtonEl =\n",
              "        document.querySelector('#df-cb72c63d-ace1-4bde-9a39-d3f6efa6261f button');\n",
              "      quickchartButtonEl.style.display =\n",
              "        google.colab.kernel.accessAllowed ? 'block' : 'none';\n",
              "    })();\n",
              "  </script>\n",
              "</div>\n",
              "\n",
              "    </div>\n",
              "  </div>\n"
            ]
          },
          "metadata": {},
          "execution_count": 149
        }
      ]
    },
    {
      "cell_type": "code",
      "source": [
        "!kaggle competitions submit -c playground-series-s3e26 -f ./sample_data/playground-series-s3e26/submission_rf.csv -m \"Submit random forest\""
      ],
      "metadata": {
        "colab": {
          "base_uri": "https://localhost:8080/"
        },
        "id": "A0Lp0xCBu3im",
        "outputId": "f6c34256-53a7-4b17-b797-4d12636d9fbe"
      },
      "execution_count": 150,
      "outputs": [
        {
          "output_type": "stream",
          "name": "stdout",
          "text": [
            "100% 332k/332k [00:02<00:00, 157kB/s]\n",
            "Successfully submitted to Multi-Class Prediction of Cirrhosis Outcomes"
          ]
        }
      ]
    },
    {
      "cell_type": "code",
      "source": [
        "numerical_columns = X.select_dtypes(include=[\"float64\", \"int64\"]).columns\n",
        "categorical_columns = X.select_dtypes(include=[\"object\"]).columns\n",
        "\n",
        "num_pipeline = Pipeline([\n",
        "    (\"log_transform\", FunctionTransformer(np.log1p)),\n",
        "    # (\"scaler\", StandardScaler())\n",
        "],\n",
        "    verbose=True,\n",
        ")\n",
        "\n",
        "categorical_pipeline = Pipeline(\n",
        "    [\n",
        "        (\"onehot\", OneHotEncoder(sparse_output=False, handle_unknown=\"ignore\"))\n",
        "    ],\n",
        "    verbose = True,\n",
        ")\n",
        "\n",
        "preprocessor = ColumnTransformer([\n",
        "    (\"num\", num_pipeline, numerical_columns),\n",
        "    (\"cat\", categorical_pipeline, categorical_columns)\n",
        "],\n",
        "verbose=True,\n",
        ")\n",
        "\n",
        "xgb_clf = Pipeline(\n",
        "    [\n",
        "        (\"preprocessor\", preprocessor),\n",
        "        (\"clf\", XGBClassifier(n_estimators=300, max_depth = 4, min_samples_split=10, random_state=42, n_jobs=-1))\n",
        "    ],\n",
        "    verbose=True\n",
        ")\n",
        "\n",
        "\n",
        "\n",
        "# xgb_reg = XGBRegressor(n_estimators=500, max_depth=6, random_state=42, eta=0.01)"
      ],
      "metadata": {
        "id": "k6vq9ikNu-19"
      },
      "execution_count": 175,
      "outputs": []
    },
    {
      "cell_type": "code",
      "source": [
        "cv_xgb_preds = cross_val_predict(xgb_clf, X, y.map({\"C\": 0, \"CL\": 1, \"D\": 2}), cv=5)\n",
        "cv_xgb_probs = cross_val_predict(xgb_clf, X, y.map({\"C\": 0, \"CL\": 1, \"D\": 2}), cv=5, method=\"predict_proba\")"
      ],
      "metadata": {
        "id": "xuEiwicZxAdp",
        "colab": {
          "base_uri": "https://localhost:8080/"
        },
        "outputId": "e0f941c3-7023-4e43-a6b6-e1e53c7dc8e6"
      },
      "execution_count": 176,
      "outputs": [
        {
          "output_type": "stream",
          "name": "stdout",
          "text": [
            "[Pipeline] ..... (step 1 of 1) Processing log_transform, total=   0.0s\n",
            "[ColumnTransformer] ........... (1 of 2) Processing num, total=   0.0s\n",
            "[Pipeline] ............ (step 1 of 1) Processing onehot, total=   0.0s\n",
            "[ColumnTransformer] ........... (2 of 2) Processing cat, total=   0.0s\n",
            "[Pipeline] ...... (step 1 of 2) Processing preprocessor, total=   0.0s\n"
          ]
        },
        {
          "output_type": "stream",
          "name": "stderr",
          "text": [
            "/usr/local/lib/python3.10/dist-packages/xgboost/core.py:160: UserWarning: [05:41:01] WARNING: /workspace/src/learner.cc:742: \n",
            "Parameters: { \"min_samples_split\" } are not used.\n",
            "\n",
            "  warnings.warn(smsg, UserWarning)\n"
          ]
        },
        {
          "output_type": "stream",
          "name": "stdout",
          "text": [
            "[Pipeline] ............... (step 2 of 2) Processing clf, total=   2.4s\n",
            "[Pipeline] ..... (step 1 of 1) Processing log_transform, total=   0.0s\n",
            "[ColumnTransformer] ........... (1 of 2) Processing num, total=   0.0s\n",
            "[Pipeline] ............ (step 1 of 1) Processing onehot, total=   0.0s\n",
            "[ColumnTransformer] ........... (2 of 2) Processing cat, total=   0.0s\n",
            "[Pipeline] ...... (step 1 of 2) Processing preprocessor, total=   0.0s\n"
          ]
        },
        {
          "output_type": "stream",
          "name": "stderr",
          "text": [
            "/usr/local/lib/python3.10/dist-packages/xgboost/core.py:160: UserWarning: [05:41:03] WARNING: /workspace/src/learner.cc:742: \n",
            "Parameters: { \"min_samples_split\" } are not used.\n",
            "\n",
            "  warnings.warn(smsg, UserWarning)\n"
          ]
        },
        {
          "output_type": "stream",
          "name": "stdout",
          "text": [
            "[Pipeline] ............... (step 2 of 2) Processing clf, total=   1.2s\n",
            "[Pipeline] ..... (step 1 of 1) Processing log_transform, total=   0.0s\n",
            "[ColumnTransformer] ........... (1 of 2) Processing num, total=   0.0s\n",
            "[Pipeline] ............ (step 1 of 1) Processing onehot, total=   0.0s\n",
            "[ColumnTransformer] ........... (2 of 2) Processing cat, total=   0.0s\n",
            "[Pipeline] ...... (step 1 of 2) Processing preprocessor, total=   0.0s\n"
          ]
        },
        {
          "output_type": "stream",
          "name": "stderr",
          "text": [
            "/usr/local/lib/python3.10/dist-packages/xgboost/core.py:160: UserWarning: [05:41:05] WARNING: /workspace/src/learner.cc:742: \n",
            "Parameters: { \"min_samples_split\" } are not used.\n",
            "\n",
            "  warnings.warn(smsg, UserWarning)\n"
          ]
        },
        {
          "output_type": "stream",
          "name": "stdout",
          "text": [
            "[Pipeline] ............... (step 2 of 2) Processing clf, total=   1.2s\n",
            "[Pipeline] ..... (step 1 of 1) Processing log_transform, total=   0.0s\n",
            "[ColumnTransformer] ........... (1 of 2) Processing num, total=   0.0s\n",
            "[Pipeline] ............ (step 1 of 1) Processing onehot, total=   0.0s\n",
            "[ColumnTransformer] ........... (2 of 2) Processing cat, total=   0.0s\n",
            "[Pipeline] ...... (step 1 of 2) Processing preprocessor, total=   0.0s\n"
          ]
        },
        {
          "output_type": "stream",
          "name": "stderr",
          "text": [
            "/usr/local/lib/python3.10/dist-packages/xgboost/core.py:160: UserWarning: [05:41:06] WARNING: /workspace/src/learner.cc:742: \n",
            "Parameters: { \"min_samples_split\" } are not used.\n",
            "\n",
            "  warnings.warn(smsg, UserWarning)\n"
          ]
        },
        {
          "output_type": "stream",
          "name": "stdout",
          "text": [
            "[Pipeline] ............... (step 2 of 2) Processing clf, total=  25.7s\n",
            "[Pipeline] ..... (step 1 of 1) Processing log_transform, total=   0.0s\n",
            "[ColumnTransformer] ........... (1 of 2) Processing num, total=   0.0s\n",
            "[Pipeline] ............ (step 1 of 1) Processing onehot, total=   0.0s\n",
            "[ColumnTransformer] ........... (2 of 2) Processing cat, total=   0.0s\n",
            "[Pipeline] ...... (step 1 of 2) Processing preprocessor, total=   0.0s\n"
          ]
        },
        {
          "output_type": "stream",
          "name": "stderr",
          "text": [
            "/usr/local/lib/python3.10/dist-packages/xgboost/core.py:160: UserWarning: [05:41:32] WARNING: /workspace/src/learner.cc:742: \n",
            "Parameters: { \"min_samples_split\" } are not used.\n",
            "\n",
            "  warnings.warn(smsg, UserWarning)\n"
          ]
        },
        {
          "output_type": "stream",
          "name": "stdout",
          "text": [
            "[Pipeline] ............... (step 2 of 2) Processing clf, total=   3.2s\n",
            "[Pipeline] ..... (step 1 of 1) Processing log_transform, total=   0.0s\n",
            "[ColumnTransformer] ........... (1 of 2) Processing num, total=   0.0s\n",
            "[Pipeline] ............ (step 1 of 1) Processing onehot, total=   0.0s\n",
            "[ColumnTransformer] ........... (2 of 2) Processing cat, total=   0.0s\n",
            "[Pipeline] ...... (step 1 of 2) Processing preprocessor, total=   0.0s\n"
          ]
        },
        {
          "output_type": "stream",
          "name": "stderr",
          "text": [
            "/usr/local/lib/python3.10/dist-packages/xgboost/core.py:160: UserWarning: [05:41:35] WARNING: /workspace/src/learner.cc:742: \n",
            "Parameters: { \"min_samples_split\" } are not used.\n",
            "\n",
            "  warnings.warn(smsg, UserWarning)\n"
          ]
        },
        {
          "output_type": "stream",
          "name": "stdout",
          "text": [
            "[Pipeline] ............... (step 2 of 2) Processing clf, total=   1.2s\n",
            "[Pipeline] ..... (step 1 of 1) Processing log_transform, total=   0.0s\n",
            "[ColumnTransformer] ........... (1 of 2) Processing num, total=   0.0s\n",
            "[Pipeline] ............ (step 1 of 1) Processing onehot, total=   0.0s\n",
            "[ColumnTransformer] ........... (2 of 2) Processing cat, total=   0.0s\n",
            "[Pipeline] ...... (step 1 of 2) Processing preprocessor, total=   0.0s\n"
          ]
        },
        {
          "output_type": "stream",
          "name": "stderr",
          "text": [
            "/usr/local/lib/python3.10/dist-packages/xgboost/core.py:160: UserWarning: [05:41:36] WARNING: /workspace/src/learner.cc:742: \n",
            "Parameters: { \"min_samples_split\" } are not used.\n",
            "\n",
            "  warnings.warn(smsg, UserWarning)\n"
          ]
        },
        {
          "output_type": "stream",
          "name": "stdout",
          "text": [
            "[Pipeline] ............... (step 2 of 2) Processing clf, total=   1.2s\n",
            "[Pipeline] ..... (step 1 of 1) Processing log_transform, total=   0.0s\n",
            "[ColumnTransformer] ........... (1 of 2) Processing num, total=   0.0s\n",
            "[Pipeline] ............ (step 1 of 1) Processing onehot, total=   0.0s\n",
            "[ColumnTransformer] ........... (2 of 2) Processing cat, total=   0.0s\n",
            "[Pipeline] ...... (step 1 of 2) Processing preprocessor, total=   0.0s\n"
          ]
        },
        {
          "output_type": "stream",
          "name": "stderr",
          "text": [
            "/usr/local/lib/python3.10/dist-packages/xgboost/core.py:160: UserWarning: [05:41:38] WARNING: /workspace/src/learner.cc:742: \n",
            "Parameters: { \"min_samples_split\" } are not used.\n",
            "\n",
            "  warnings.warn(smsg, UserWarning)\n"
          ]
        },
        {
          "output_type": "stream",
          "name": "stdout",
          "text": [
            "[Pipeline] ............... (step 2 of 2) Processing clf, total=   1.2s\n",
            "[Pipeline] ..... (step 1 of 1) Processing log_transform, total=   0.0s\n",
            "[ColumnTransformer] ........... (1 of 2) Processing num, total=   0.0s\n",
            "[Pipeline] ............ (step 1 of 1) Processing onehot, total=   0.0s\n",
            "[ColumnTransformer] ........... (2 of 2) Processing cat, total=   0.0s\n",
            "[Pipeline] ...... (step 1 of 2) Processing preprocessor, total=   0.0s\n"
          ]
        },
        {
          "output_type": "stream",
          "name": "stderr",
          "text": [
            "/usr/local/lib/python3.10/dist-packages/xgboost/core.py:160: UserWarning: [05:41:39] WARNING: /workspace/src/learner.cc:742: \n",
            "Parameters: { \"min_samples_split\" } are not used.\n",
            "\n",
            "  warnings.warn(smsg, UserWarning)\n"
          ]
        },
        {
          "output_type": "stream",
          "name": "stdout",
          "text": [
            "[Pipeline] ............... (step 2 of 2) Processing clf, total=   1.2s\n",
            "[Pipeline] ..... (step 1 of 1) Processing log_transform, total=   0.0s\n",
            "[ColumnTransformer] ........... (1 of 2) Processing num, total=   0.0s\n",
            "[Pipeline] ............ (step 1 of 1) Processing onehot, total=   0.0s\n",
            "[ColumnTransformer] ........... (2 of 2) Processing cat, total=   0.0s\n",
            "[Pipeline] ...... (step 1 of 2) Processing preprocessor, total=   0.0s\n"
          ]
        },
        {
          "output_type": "stream",
          "name": "stderr",
          "text": [
            "/usr/local/lib/python3.10/dist-packages/xgboost/core.py:160: UserWarning: [05:41:40] WARNING: /workspace/src/learner.cc:742: \n",
            "Parameters: { \"min_samples_split\" } are not used.\n",
            "\n",
            "  warnings.warn(smsg, UserWarning)\n"
          ]
        },
        {
          "output_type": "stream",
          "name": "stdout",
          "text": [
            "[Pipeline] ............... (step 2 of 2) Processing clf, total=   4.3s\n"
          ]
        }
      ]
    },
    {
      "cell_type": "code",
      "source": [
        "print(\"XGBoost Classification Report: \")\n",
        "print(classification_report(y.map({\"C\": 0, \"CL\": 1, \"D\": 2}), cv_xgb_preds))\n",
        "print()\n",
        "\n",
        "\n",
        "print(\"XGBoost LogLoss: \")\n",
        "print(log_loss(y.map({\"C\": 0, \"CL\": 1, \"D\": 2}), cv_xgb_probs))"
      ],
      "metadata": {
        "colab": {
          "base_uri": "https://localhost:8080/"
        },
        "id": "q2XDlvhSxE-0",
        "outputId": "459b3327-af48-4788-d88c-50171f95eea2"
      },
      "execution_count": 177,
      "outputs": [
        {
          "output_type": "stream",
          "name": "stdout",
          "text": [
            "XGBoost Classification Report: \n",
            "              precision    recall  f1-score   support\n",
            "\n",
            "           0       0.85      0.91      0.88      4965\n",
            "           1       0.58      0.20      0.29       275\n",
            "           2       0.79      0.74      0.77      2665\n",
            "\n",
            "    accuracy                           0.83      7905\n",
            "   macro avg       0.74      0.62      0.65      7905\n",
            "weighted avg       0.82      0.83      0.82      7905\n",
            "\n",
            "\n",
            "XGBoost LogLoss: \n",
            "0.5396184167800936\n"
          ]
        }
      ]
    },
    {
      "cell_type": "code",
      "source": [
        "sub_xgb_df = get_model_predictions(xgb_clf, X, y.map({\"C\": 0, \"CL\": 1, \"D\": 2}), test_data, classes=[\"C\", \"CL\", \"D\"])\n",
        "sub_xgb_df.to_csv(\"./sample_data/playground-series-s3e26/submission_xgb_v2.csv\", index=False)"
      ],
      "metadata": {
        "id": "LnHpN6v0xm8b",
        "colab": {
          "base_uri": "https://localhost:8080/"
        },
        "outputId": "088163da-4ae3-47c5-fcc7-e3be73550b10"
      },
      "execution_count": 178,
      "outputs": [
        {
          "output_type": "stream",
          "name": "stdout",
          "text": [
            "[Pipeline] ..... (step 1 of 1) Processing log_transform, total=   0.0s\n",
            "[ColumnTransformer] ........... (1 of 2) Processing num, total=   0.0s\n",
            "[Pipeline] ............ (step 1 of 1) Processing onehot, total=   0.0s\n",
            "[ColumnTransformer] ........... (2 of 2) Processing cat, total=   0.0s\n",
            "[Pipeline] ...... (step 1 of 2) Processing preprocessor, total=   0.1s\n"
          ]
        },
        {
          "output_type": "stream",
          "name": "stderr",
          "text": [
            "/usr/local/lib/python3.10/dist-packages/xgboost/core.py:160: UserWarning: [05:42:31] WARNING: /workspace/src/learner.cc:742: \n",
            "Parameters: { \"min_samples_split\" } are not used.\n",
            "\n",
            "  warnings.warn(smsg, UserWarning)\n"
          ]
        },
        {
          "output_type": "stream",
          "name": "stdout",
          "text": [
            "[Pipeline] ............... (step 2 of 2) Processing clf, total=  19.0s\n",
            "classes:  C CL D\n"
          ]
        }
      ]
    },
    {
      "cell_type": "code",
      "source": [
        "sub_xgb_df.head()"
      ],
      "metadata": {
        "colab": {
          "base_uri": "https://localhost:8080/",
          "height": 206
        },
        "id": "RC_4rfWdY_lR",
        "outputId": "a7761214-c360-41f7-a342-3f687d766e8b"
      },
      "execution_count": 179,
      "outputs": [
        {
          "output_type": "execute_result",
          "data": {
            "text/plain": [
              "     id  status_C  status_CL  status_D\n",
              "0  7905  0.087203   0.009158  0.903639\n",
              "1  7906  0.543577   0.144467  0.311956\n",
              "2  7907  0.003168   0.000294  0.996538\n",
              "3  7908  0.981847   0.000487  0.017666\n",
              "4  7909  0.966803   0.005525  0.027671"
            ],
            "text/html": [
              "\n",
              "  <div id=\"df-8862b704-77f8-4679-8e65-9739ba3bf1b1\" class=\"colab-df-container\">\n",
              "    <div>\n",
              "<style scoped>\n",
              "    .dataframe tbody tr th:only-of-type {\n",
              "        vertical-align: middle;\n",
              "    }\n",
              "\n",
              "    .dataframe tbody tr th {\n",
              "        vertical-align: top;\n",
              "    }\n",
              "\n",
              "    .dataframe thead th {\n",
              "        text-align: right;\n",
              "    }\n",
              "</style>\n",
              "<table border=\"1\" class=\"dataframe\">\n",
              "  <thead>\n",
              "    <tr style=\"text-align: right;\">\n",
              "      <th></th>\n",
              "      <th>id</th>\n",
              "      <th>status_C</th>\n",
              "      <th>status_CL</th>\n",
              "      <th>status_D</th>\n",
              "    </tr>\n",
              "  </thead>\n",
              "  <tbody>\n",
              "    <tr>\n",
              "      <th>0</th>\n",
              "      <td>7905</td>\n",
              "      <td>0.087203</td>\n",
              "      <td>0.009158</td>\n",
              "      <td>0.903639</td>\n",
              "    </tr>\n",
              "    <tr>\n",
              "      <th>1</th>\n",
              "      <td>7906</td>\n",
              "      <td>0.543577</td>\n",
              "      <td>0.144467</td>\n",
              "      <td>0.311956</td>\n",
              "    </tr>\n",
              "    <tr>\n",
              "      <th>2</th>\n",
              "      <td>7907</td>\n",
              "      <td>0.003168</td>\n",
              "      <td>0.000294</td>\n",
              "      <td>0.996538</td>\n",
              "    </tr>\n",
              "    <tr>\n",
              "      <th>3</th>\n",
              "      <td>7908</td>\n",
              "      <td>0.981847</td>\n",
              "      <td>0.000487</td>\n",
              "      <td>0.017666</td>\n",
              "    </tr>\n",
              "    <tr>\n",
              "      <th>4</th>\n",
              "      <td>7909</td>\n",
              "      <td>0.966803</td>\n",
              "      <td>0.005525</td>\n",
              "      <td>0.027671</td>\n",
              "    </tr>\n",
              "  </tbody>\n",
              "</table>\n",
              "</div>\n",
              "    <div class=\"colab-df-buttons\">\n",
              "\n",
              "  <div class=\"colab-df-container\">\n",
              "    <button class=\"colab-df-convert\" onclick=\"convertToInteractive('df-8862b704-77f8-4679-8e65-9739ba3bf1b1')\"\n",
              "            title=\"Convert this dataframe to an interactive table.\"\n",
              "            style=\"display:none;\">\n",
              "\n",
              "  <svg xmlns=\"http://www.w3.org/2000/svg\" height=\"24px\" viewBox=\"0 -960 960 960\">\n",
              "    <path d=\"M120-120v-720h720v720H120Zm60-500h600v-160H180v160Zm220 220h160v-160H400v160Zm0 220h160v-160H400v160ZM180-400h160v-160H180v160Zm440 0h160v-160H620v160ZM180-180h160v-160H180v160Zm440 0h160v-160H620v160Z\"/>\n",
              "  </svg>\n",
              "    </button>\n",
              "\n",
              "  <style>\n",
              "    .colab-df-container {\n",
              "      display:flex;\n",
              "      gap: 12px;\n",
              "    }\n",
              "\n",
              "    .colab-df-convert {\n",
              "      background-color: #E8F0FE;\n",
              "      border: none;\n",
              "      border-radius: 50%;\n",
              "      cursor: pointer;\n",
              "      display: none;\n",
              "      fill: #1967D2;\n",
              "      height: 32px;\n",
              "      padding: 0 0 0 0;\n",
              "      width: 32px;\n",
              "    }\n",
              "\n",
              "    .colab-df-convert:hover {\n",
              "      background-color: #E2EBFA;\n",
              "      box-shadow: 0px 1px 2px rgba(60, 64, 67, 0.3), 0px 1px 3px 1px rgba(60, 64, 67, 0.15);\n",
              "      fill: #174EA6;\n",
              "    }\n",
              "\n",
              "    .colab-df-buttons div {\n",
              "      margin-bottom: 4px;\n",
              "    }\n",
              "\n",
              "    [theme=dark] .colab-df-convert {\n",
              "      background-color: #3B4455;\n",
              "      fill: #D2E3FC;\n",
              "    }\n",
              "\n",
              "    [theme=dark] .colab-df-convert:hover {\n",
              "      background-color: #434B5C;\n",
              "      box-shadow: 0px 1px 3px 1px rgba(0, 0, 0, 0.15);\n",
              "      filter: drop-shadow(0px 1px 2px rgba(0, 0, 0, 0.3));\n",
              "      fill: #FFFFFF;\n",
              "    }\n",
              "  </style>\n",
              "\n",
              "    <script>\n",
              "      const buttonEl =\n",
              "        document.querySelector('#df-8862b704-77f8-4679-8e65-9739ba3bf1b1 button.colab-df-convert');\n",
              "      buttonEl.style.display =\n",
              "        google.colab.kernel.accessAllowed ? 'block' : 'none';\n",
              "\n",
              "      async function convertToInteractive(key) {\n",
              "        const element = document.querySelector('#df-8862b704-77f8-4679-8e65-9739ba3bf1b1');\n",
              "        const dataTable =\n",
              "          await google.colab.kernel.invokeFunction('convertToInteractive',\n",
              "                                                    [key], {});\n",
              "        if (!dataTable) return;\n",
              "\n",
              "        const docLinkHtml = 'Like what you see? Visit the ' +\n",
              "          '<a target=\"_blank\" href=https://colab.research.google.com/notebooks/data_table.ipynb>data table notebook</a>'\n",
              "          + ' to learn more about interactive tables.';\n",
              "        element.innerHTML = '';\n",
              "        dataTable['output_type'] = 'display_data';\n",
              "        await google.colab.output.renderOutput(dataTable, element);\n",
              "        const docLink = document.createElement('div');\n",
              "        docLink.innerHTML = docLinkHtml;\n",
              "        element.appendChild(docLink);\n",
              "      }\n",
              "    </script>\n",
              "  </div>\n",
              "\n",
              "\n",
              "<div id=\"df-4361c70d-f83b-455f-bac1-655c075ca166\">\n",
              "  <button class=\"colab-df-quickchart\" onclick=\"quickchart('df-4361c70d-f83b-455f-bac1-655c075ca166')\"\n",
              "            title=\"Suggest charts\"\n",
              "            style=\"display:none;\">\n",
              "\n",
              "<svg xmlns=\"http://www.w3.org/2000/svg\" height=\"24px\"viewBox=\"0 0 24 24\"\n",
              "     width=\"24px\">\n",
              "    <g>\n",
              "        <path d=\"M19 3H5c-1.1 0-2 .9-2 2v14c0 1.1.9 2 2 2h14c1.1 0 2-.9 2-2V5c0-1.1-.9-2-2-2zM9 17H7v-7h2v7zm4 0h-2V7h2v10zm4 0h-2v-4h2v4z\"/>\n",
              "    </g>\n",
              "</svg>\n",
              "  </button>\n",
              "\n",
              "<style>\n",
              "  .colab-df-quickchart {\n",
              "      --bg-color: #E8F0FE;\n",
              "      --fill-color: #1967D2;\n",
              "      --hover-bg-color: #E2EBFA;\n",
              "      --hover-fill-color: #174EA6;\n",
              "      --disabled-fill-color: #AAA;\n",
              "      --disabled-bg-color: #DDD;\n",
              "  }\n",
              "\n",
              "  [theme=dark] .colab-df-quickchart {\n",
              "      --bg-color: #3B4455;\n",
              "      --fill-color: #D2E3FC;\n",
              "      --hover-bg-color: #434B5C;\n",
              "      --hover-fill-color: #FFFFFF;\n",
              "      --disabled-bg-color: #3B4455;\n",
              "      --disabled-fill-color: #666;\n",
              "  }\n",
              "\n",
              "  .colab-df-quickchart {\n",
              "    background-color: var(--bg-color);\n",
              "    border: none;\n",
              "    border-radius: 50%;\n",
              "    cursor: pointer;\n",
              "    display: none;\n",
              "    fill: var(--fill-color);\n",
              "    height: 32px;\n",
              "    padding: 0;\n",
              "    width: 32px;\n",
              "  }\n",
              "\n",
              "  .colab-df-quickchart:hover {\n",
              "    background-color: var(--hover-bg-color);\n",
              "    box-shadow: 0 1px 2px rgba(60, 64, 67, 0.3), 0 1px 3px 1px rgba(60, 64, 67, 0.15);\n",
              "    fill: var(--button-hover-fill-color);\n",
              "  }\n",
              "\n",
              "  .colab-df-quickchart-complete:disabled,\n",
              "  .colab-df-quickchart-complete:disabled:hover {\n",
              "    background-color: var(--disabled-bg-color);\n",
              "    fill: var(--disabled-fill-color);\n",
              "    box-shadow: none;\n",
              "  }\n",
              "\n",
              "  .colab-df-spinner {\n",
              "    border: 2px solid var(--fill-color);\n",
              "    border-color: transparent;\n",
              "    border-bottom-color: var(--fill-color);\n",
              "    animation:\n",
              "      spin 1s steps(1) infinite;\n",
              "  }\n",
              "\n",
              "  @keyframes spin {\n",
              "    0% {\n",
              "      border-color: transparent;\n",
              "      border-bottom-color: var(--fill-color);\n",
              "      border-left-color: var(--fill-color);\n",
              "    }\n",
              "    20% {\n",
              "      border-color: transparent;\n",
              "      border-left-color: var(--fill-color);\n",
              "      border-top-color: var(--fill-color);\n",
              "    }\n",
              "    30% {\n",
              "      border-color: transparent;\n",
              "      border-left-color: var(--fill-color);\n",
              "      border-top-color: var(--fill-color);\n",
              "      border-right-color: var(--fill-color);\n",
              "    }\n",
              "    40% {\n",
              "      border-color: transparent;\n",
              "      border-right-color: var(--fill-color);\n",
              "      border-top-color: var(--fill-color);\n",
              "    }\n",
              "    60% {\n",
              "      border-color: transparent;\n",
              "      border-right-color: var(--fill-color);\n",
              "    }\n",
              "    80% {\n",
              "      border-color: transparent;\n",
              "      border-right-color: var(--fill-color);\n",
              "      border-bottom-color: var(--fill-color);\n",
              "    }\n",
              "    90% {\n",
              "      border-color: transparent;\n",
              "      border-bottom-color: var(--fill-color);\n",
              "    }\n",
              "  }\n",
              "</style>\n",
              "\n",
              "  <script>\n",
              "    async function quickchart(key) {\n",
              "      const quickchartButtonEl =\n",
              "        document.querySelector('#' + key + ' button');\n",
              "      quickchartButtonEl.disabled = true;  // To prevent multiple clicks.\n",
              "      quickchartButtonEl.classList.add('colab-df-spinner');\n",
              "      try {\n",
              "        const charts = await google.colab.kernel.invokeFunction(\n",
              "            'suggestCharts', [key], {});\n",
              "      } catch (error) {\n",
              "        console.error('Error during call to suggestCharts:', error);\n",
              "      }\n",
              "      quickchartButtonEl.classList.remove('colab-df-spinner');\n",
              "      quickchartButtonEl.classList.add('colab-df-quickchart-complete');\n",
              "    }\n",
              "    (() => {\n",
              "      let quickchartButtonEl =\n",
              "        document.querySelector('#df-4361c70d-f83b-455f-bac1-655c075ca166 button');\n",
              "      quickchartButtonEl.style.display =\n",
              "        google.colab.kernel.accessAllowed ? 'block' : 'none';\n",
              "    })();\n",
              "  </script>\n",
              "</div>\n",
              "\n",
              "    </div>\n",
              "  </div>\n"
            ]
          },
          "metadata": {},
          "execution_count": 179
        }
      ]
    },
    {
      "cell_type": "code",
      "source": [
        "!kaggle competitions submit -c playground-series-s3e26 -f ./sample_data/playground-series-s3e26/submission_xgb_v2.csv -m \"Submit XGBoost v2 300 estimators\""
      ],
      "metadata": {
        "colab": {
          "base_uri": "https://localhost:8080/"
        },
        "id": "j6zaXZmwxt6Y",
        "outputId": "23e90d7d-5532-480a-be1f-bad8b093e651"
      },
      "execution_count": 180,
      "outputs": [
        {
          "output_type": "stream",
          "name": "stdout",
          "text": [
            "100% 209k/209k [00:01<00:00, 119kB/s] \n",
            "Successfully submitted to Multi-Class Prediction of Cirrhosis Outcomes"
          ]
        }
      ]
    },
    {
      "cell_type": "code",
      "source": [
        "train_data.info()"
      ],
      "metadata": {
        "colab": {
          "base_uri": "https://localhost:8080/"
        },
        "id": "1g-dZal_xToI",
        "outputId": "6ca20011-376b-4969-f36e-ee73f6a264de"
      },
      "execution_count": null,
      "outputs": [
        {
          "output_type": "stream",
          "name": "stdout",
          "text": [
            "<class 'pandas.core.frame.DataFrame'>\n",
            "Int64Index: 10407 entries, 0 to 10406\n",
            "Data columns (total 12 columns):\n",
            " #   Column                 Non-Null Count  Dtype  \n",
            "---  ------                 --------------  -----  \n",
            " 0   allelectrons_Total     10407 non-null  float64\n",
            " 1   density_Total          10407 non-null  float64\n",
            " 2   allelectrons_Average   10407 non-null  float64\n",
            " 3   val_e_Average          10407 non-null  float64\n",
            " 4   atomicweight_Average   10407 non-null  float64\n",
            " 5   ionenergy_Average      10407 non-null  float64\n",
            " 6   el_neg_chi_Average     10407 non-null  float64\n",
            " 7   R_vdw_element_Average  10407 non-null  float64\n",
            " 8   R_cov_element_Average  10407 non-null  float64\n",
            " 9   zaratio_Average        10407 non-null  float64\n",
            " 10  density_Average        10407 non-null  float64\n",
            " 11  Hardness               10407 non-null  float64\n",
            "dtypes: float64(12)\n",
            "memory usage: 1.0 MB\n"
          ]
        }
      ]
    },
    {
      "cell_type": "code",
      "source": [
        "lin_reg_clf = Pipeline([\n",
        "    (\"log_transform\", FunctionTransformer(np.log1p)),\n",
        "    (\"scaler\", StandardScaler()),\n",
        "    (\"log_reg\", LinearRegression())\n",
        "])"
      ],
      "metadata": {
        "id": "bHXZBH1txeV2"
      },
      "execution_count": null,
      "outputs": []
    },
    {
      "cell_type": "code",
      "source": [
        "cv_lin_reg_preds = cross_val_predict(lin_reg_clf, X, y, cv=10)\n",
        "print(\"Median Absolute Error of Linear Regression : \", median_absolute_error(y, cv_lin_reg_preds))"
      ],
      "metadata": {
        "colab": {
          "base_uri": "https://localhost:8080/"
        },
        "id": "3tzUXMKS39rG",
        "outputId": "b288b1bd-ecc6-4258-ad43-d1a88ccaf024"
      },
      "execution_count": null,
      "outputs": [
        {
          "output_type": "stream",
          "name": "stdout",
          "text": [
            "Median Absolute Error of Linear Regression :  1.0304540934976743\n"
          ]
        }
      ]
    },
    {
      "cell_type": "code",
      "source": [],
      "metadata": {
        "id": "fxN3gtmZ4W8C"
      },
      "execution_count": null,
      "outputs": []
    }
  ]
}